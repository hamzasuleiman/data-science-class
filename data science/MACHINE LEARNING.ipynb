{
 "cells": [
  {
   "cell_type": "code",
   "execution_count": 1,
   "id": "348a544c",
   "metadata": {},
   "outputs": [],
   "source": [
    "import numpy as np\n",
    "import pandas as pd\n",
    "import matplotlib.pyplot as plt\n",
    "import seaborn as sns\n",
    "import plotly.express as px\n",
    "from sklearn.model_selection import train_test_split\n",
    "from sklearn.preprocessing import StandardScaler,LabelEncoder\n",
    "from sklearn.linear_model import LinearRegression,Lasso,Ridge,ElasticNet\n",
    "from sklearn.svm import SVR\n",
    "from sklearn.tree import DecisionTreeRegressor\n",
    "from sklearn.ensemble import RandomForestRegressor\n",
    "from sklearn.neural_network import MLPRegressor\n",
    "from sklearn.metrics import r2_score,mean_absolute_error,mean_absolute_percentage_error,mean_squared_error\n",
    "from sklearn.feature_selection import mutual_info_classif, mutual_info_regression\n",
    "from sklearn.pipeline import Pipeline"
   ]
  },
  {
   "cell_type": "code",
   "execution_count": 2,
   "id": "781e6b5d",
   "metadata": {},
   "outputs": [
    {
     "data": {
      "text/html": [
       "<div>\n",
       "<style scoped>\n",
       "    .dataframe tbody tr th:only-of-type {\n",
       "        vertical-align: middle;\n",
       "    }\n",
       "\n",
       "    .dataframe tbody tr th {\n",
       "        vertical-align: top;\n",
       "    }\n",
       "\n",
       "    .dataframe thead th {\n",
       "        text-align: right;\n",
       "    }\n",
       "</style>\n",
       "<table border=\"1\" class=\"dataframe\">\n",
       "  <thead>\n",
       "    <tr style=\"text-align: right;\">\n",
       "      <th></th>\n",
       "      <th>YearsExperience</th>\n",
       "      <th>Salary</th>\n",
       "    </tr>\n",
       "  </thead>\n",
       "  <tbody>\n",
       "    <tr>\n",
       "      <th>0</th>\n",
       "      <td>1.1</td>\n",
       "      <td>39343.0</td>\n",
       "    </tr>\n",
       "    <tr>\n",
       "      <th>1</th>\n",
       "      <td>1.3</td>\n",
       "      <td>46205.0</td>\n",
       "    </tr>\n",
       "    <tr>\n",
       "      <th>2</th>\n",
       "      <td>1.5</td>\n",
       "      <td>37731.0</td>\n",
       "    </tr>\n",
       "    <tr>\n",
       "      <th>3</th>\n",
       "      <td>2.0</td>\n",
       "      <td>43525.0</td>\n",
       "    </tr>\n",
       "    <tr>\n",
       "      <th>4</th>\n",
       "      <td>2.2</td>\n",
       "      <td>39891.0</td>\n",
       "    </tr>\n",
       "  </tbody>\n",
       "</table>\n",
       "</div>"
      ],
      "text/plain": [
       "   YearsExperience   Salary\n",
       "0              1.1  39343.0\n",
       "1              1.3  46205.0\n",
       "2              1.5  37731.0\n",
       "3              2.0  43525.0\n",
       "4              2.2  39891.0"
      ]
     },
     "execution_count": 2,
     "metadata": {},
     "output_type": "execute_result"
    }
   ],
   "source": [
    "df=pd.read_csv(\"Salary Data.csv\")\n",
    "df.head()"
   ]
  },
  {
   "cell_type": "code",
   "execution_count": 3,
   "id": "ae3f5fca",
   "metadata": {},
   "outputs": [
    {
     "data": {
      "text/plain": [
       "YearsExperience    0\n",
       "Salary             0\n",
       "dtype: int64"
      ]
     },
     "execution_count": 3,
     "metadata": {},
     "output_type": "execute_result"
    }
   ],
   "source": [
    "df.isnull().sum()"
   ]
  },
  {
   "cell_type": "code",
   "execution_count": 4,
   "id": "32ea2d03",
   "metadata": {},
   "outputs": [
    {
     "name": "stdout",
     "output_type": "stream",
     "text": [
      "<class 'pandas.core.frame.DataFrame'>\n",
      "RangeIndex: 30 entries, 0 to 29\n",
      "Data columns (total 2 columns):\n",
      " #   Column           Non-Null Count  Dtype  \n",
      "---  ------           --------------  -----  \n",
      " 0   YearsExperience  30 non-null     float64\n",
      " 1   Salary           30 non-null     float64\n",
      "dtypes: float64(2)\n",
      "memory usage: 612.0 bytes\n"
     ]
    }
   ],
   "source": [
    "df.info()"
   ]
  },
  {
   "cell_type": "code",
   "execution_count": 5,
   "id": "ebec9dfa",
   "metadata": {},
   "outputs": [
    {
     "data": {
      "text/html": [
       "<div>\n",
       "<style scoped>\n",
       "    .dataframe tbody tr th:only-of-type {\n",
       "        vertical-align: middle;\n",
       "    }\n",
       "\n",
       "    .dataframe tbody tr th {\n",
       "        vertical-align: top;\n",
       "    }\n",
       "\n",
       "    .dataframe thead th {\n",
       "        text-align: right;\n",
       "    }\n",
       "</style>\n",
       "<table border=\"1\" class=\"dataframe\">\n",
       "  <thead>\n",
       "    <tr style=\"text-align: right;\">\n",
       "      <th></th>\n",
       "      <th>Phone Name</th>\n",
       "      <th>Rating ?/5</th>\n",
       "      <th>Number of Ratings</th>\n",
       "      <th>RAM</th>\n",
       "      <th>ROM/Storage</th>\n",
       "      <th>Back/Rare Camera</th>\n",
       "      <th>Front Camera</th>\n",
       "      <th>Battery</th>\n",
       "      <th>Processor</th>\n",
       "      <th>Price in INR</th>\n",
       "      <th>Date of Scraping</th>\n",
       "    </tr>\n",
       "  </thead>\n",
       "  <tbody>\n",
       "    <tr>\n",
       "      <th>0</th>\n",
       "      <td>POCO C50 (Royal Blue, 32 GB)</td>\n",
       "      <td>4.2</td>\n",
       "      <td>33,561</td>\n",
       "      <td>2 GB RAM</td>\n",
       "      <td>32 GB ROM</td>\n",
       "      <td>8MP Dual Camera</td>\n",
       "      <td>5MP Front Camera</td>\n",
       "      <td>5000 mAh</td>\n",
       "      <td>Mediatek Helio A22 Processor, Upto 2.0 GHz Pro...</td>\n",
       "      <td>₹5,649</td>\n",
       "      <td>2023-06-17</td>\n",
       "    </tr>\n",
       "    <tr>\n",
       "      <th>1</th>\n",
       "      <td>POCO M4 5G (Cool Blue, 64 GB)</td>\n",
       "      <td>4.2</td>\n",
       "      <td>77,128</td>\n",
       "      <td>4 GB RAM</td>\n",
       "      <td>64 GB ROM</td>\n",
       "      <td>50MP + 2MP</td>\n",
       "      <td>8MP Front Camera</td>\n",
       "      <td>5000 mAh</td>\n",
       "      <td>Mediatek Dimensity 700 Processor</td>\n",
       "      <td>₹11,999</td>\n",
       "      <td>2023-06-17</td>\n",
       "    </tr>\n",
       "    <tr>\n",
       "      <th>2</th>\n",
       "      <td>POCO C51 (Royal Blue, 64 GB)</td>\n",
       "      <td>4.3</td>\n",
       "      <td>15,175</td>\n",
       "      <td>4 GB RAM</td>\n",
       "      <td>64 GB ROM</td>\n",
       "      <td>8MP Dual Rear Camera</td>\n",
       "      <td>5MP Front Camera</td>\n",
       "      <td>5000 mAh</td>\n",
       "      <td>Helio G36 Processor</td>\n",
       "      <td>₹6,999</td>\n",
       "      <td>2023-06-17</td>\n",
       "    </tr>\n",
       "    <tr>\n",
       "      <th>3</th>\n",
       "      <td>POCO C55 (Cool Blue, 64 GB)</td>\n",
       "      <td>4.2</td>\n",
       "      <td>22,621</td>\n",
       "      <td>4 GB RAM</td>\n",
       "      <td>64 GB ROM</td>\n",
       "      <td>50MP Dual Rear Camera</td>\n",
       "      <td>5MP Front Camera</td>\n",
       "      <td>5000 mAh</td>\n",
       "      <td>Mediatek Helio G85 Processor</td>\n",
       "      <td>₹7,749</td>\n",
       "      <td>2023-06-17</td>\n",
       "    </tr>\n",
       "    <tr>\n",
       "      <th>4</th>\n",
       "      <td>POCO C51 (Power Black, 64 GB)</td>\n",
       "      <td>4.3</td>\n",
       "      <td>15,175</td>\n",
       "      <td>4 GB RAM</td>\n",
       "      <td>64 GB ROM</td>\n",
       "      <td>8MP Dual Rear Camera</td>\n",
       "      <td>5MP Front Camera</td>\n",
       "      <td>5000 mAh</td>\n",
       "      <td>Helio G36 Processor</td>\n",
       "      <td>₹6,999</td>\n",
       "      <td>2023-06-17</td>\n",
       "    </tr>\n",
       "  </tbody>\n",
       "</table>\n",
       "</div>"
      ],
      "text/plain": [
       "                      Phone Name  Rating ?/5 Number of Ratings       RAM  \\\n",
       "0   POCO C50 (Royal Blue, 32 GB)         4.2            33,561  2 GB RAM   \n",
       "1  POCO M4 5G (Cool Blue, 64 GB)         4.2            77,128  4 GB RAM   \n",
       "2   POCO C51 (Royal Blue, 64 GB)         4.3            15,175  4 GB RAM   \n",
       "3    POCO C55 (Cool Blue, 64 GB)         4.2            22,621  4 GB RAM   \n",
       "4  POCO C51 (Power Black, 64 GB)         4.3            15,175  4 GB RAM   \n",
       "\n",
       "  ROM/Storage       Back/Rare Camera      Front Camera   Battery  \\\n",
       "0   32 GB ROM        8MP Dual Camera  5MP Front Camera  5000 mAh   \n",
       "1   64 GB ROM             50MP + 2MP  8MP Front Camera  5000 mAh   \n",
       "2   64 GB ROM   8MP Dual Rear Camera  5MP Front Camera  5000 mAh   \n",
       "3   64 GB ROM  50MP Dual Rear Camera  5MP Front Camera  5000 mAh   \n",
       "4   64 GB ROM   8MP Dual Rear Camera  5MP Front Camera  5000 mAh   \n",
       "\n",
       "                                           Processor Price in INR  \\\n",
       "0  Mediatek Helio A22 Processor, Upto 2.0 GHz Pro...       ₹5,649   \n",
       "1                   Mediatek Dimensity 700 Processor      ₹11,999   \n",
       "2                                Helio G36 Processor       ₹6,999   \n",
       "3                       Mediatek Helio G85 Processor       ₹7,749   \n",
       "4                                Helio G36 Processor       ₹6,999   \n",
       "\n",
       "  Date of Scraping  \n",
       "0       2023-06-17  \n",
       "1       2023-06-17  \n",
       "2       2023-06-17  \n",
       "3       2023-06-17  \n",
       "4       2023-06-17  "
      ]
     },
     "execution_count": 5,
     "metadata": {},
     "output_type": "execute_result"
    }
   ],
   "source": [
    "df=pd.read_csv(\"mobile_prices_2023.csv\")\n",
    "df.head()"
   ]
  },
  {
   "cell_type": "code",
   "execution_count": 6,
   "id": "afea405f",
   "metadata": {},
   "outputs": [
    {
     "data": {
      "text/plain": [
       "Phone Name             0\n",
       "Rating ?/5             0\n",
       "Number of Ratings      0\n",
       "RAM                    0\n",
       "ROM/Storage          174\n",
       "Back/Rare Camera       9\n",
       "Front Camera         401\n",
       "Battery               10\n",
       "Processor             55\n",
       "Price in INR           0\n",
       "Date of Scraping       0\n",
       "dtype: int64"
      ]
     },
     "execution_count": 6,
     "metadata": {},
     "output_type": "execute_result"
    }
   ],
   "source": [
    "df.isnull().sum()"
   ]
  },
  {
   "cell_type": "code",
   "execution_count": 38,
   "id": "70b02fdc",
   "metadata": {},
   "outputs": [],
   "source": [
    "##numerical_data= df.select_dtypes(include=[\"int\",\"float\"])\n",
    "##for x in categorical_data:\n",
    "   ## df[x].fillna(df[x].mean()[0], inplace=True)\n",
    "##df.isnull().sum()"
   ]
  },
  {
   "cell_type": "code",
   "execution_count": 8,
   "id": "0e398c4e",
   "metadata": {},
   "outputs": [
    {
     "data": {
      "text/plain": [
       "Phone Name           0\n",
       "Rating ?/5           0\n",
       "Number of Ratings    0\n",
       "RAM                  0\n",
       "ROM/Storage          0\n",
       "Back/Rare Camera     0\n",
       "Front Camera         0\n",
       "Battery              0\n",
       "Processor            0\n",
       "Price in INR         0\n",
       "Date of Scraping     0\n",
       "dtype: int64"
      ]
     },
     "execution_count": 8,
     "metadata": {},
     "output_type": "execute_result"
    }
   ],
   "source": [
    "## filling missing values that are categorical.\n",
    "categorical_data= df.select_dtypes(include=[\"object\",\"category\"])\n",
    "for x in categorical_data:\n",
    "    df[x].fillna(df[x].mode()[0], inplace=True)\n",
    "df.isnull().sum()"
   ]
  },
  {
   "cell_type": "code",
   "execution_count": 9,
   "id": "297ad6b4",
   "metadata": {},
   "outputs": [
    {
     "name": "stdout",
     "output_type": "stream",
     "text": [
      "<class 'pandas.core.frame.DataFrame'>\n",
      "RangeIndex: 1836 entries, 0 to 1835\n",
      "Data columns (total 11 columns):\n",
      " #   Column             Non-Null Count  Dtype  \n",
      "---  ------             --------------  -----  \n",
      " 0   Phone Name         1836 non-null   object \n",
      " 1   Rating ?/5         1836 non-null   float64\n",
      " 2   Number of Ratings  1836 non-null   int64  \n",
      " 3   RAM                1836 non-null   object \n",
      " 4   ROM/Storage        1836 non-null   object \n",
      " 5   Back/Rare Camera   1836 non-null   object \n",
      " 6   Front Camera       1836 non-null   object \n",
      " 7   Battery            1836 non-null   object \n",
      " 8   Processor          1836 non-null   object \n",
      " 9   Price in INR       1836 non-null   int64  \n",
      " 10  Date of Scraping   1836 non-null   object \n",
      "dtypes: float64(1), int64(2), object(8)\n",
      "memory usage: 157.9+ KB\n"
     ]
    }
   ],
   "source": [
    "## removing puntuation marks \n",
    "df[\"Price in INR\"]= df[\"Price in INR\"].str.replace(\",\",\"\")\n",
    "df[\"Price in INR\"]= df[\"Price in INR\"].str.replace(\"₹\",\"\")\n",
    "df[\"Number of Ratings\"]= df[\"Number of Ratings\"].str.replace(\",\",\"\")\n",
    "df[\"Price in INR\"]= pd.to_numeric(df[\"Price in INR\"])\n",
    "df[\"Number of Ratings\"]=pd.to_numeric(df[\"Number of Ratings\"])\n",
    "df.info()"
   ]
  },
  {
   "cell_type": "code",
   "execution_count": 10,
   "id": "2cd66259",
   "metadata": {},
   "outputs": [
    {
     "data": {
      "text/html": [
       "<div>\n",
       "<style scoped>\n",
       "    .dataframe tbody tr th:only-of-type {\n",
       "        vertical-align: middle;\n",
       "    }\n",
       "\n",
       "    .dataframe tbody tr th {\n",
       "        vertical-align: top;\n",
       "    }\n",
       "\n",
       "    .dataframe thead th {\n",
       "        text-align: right;\n",
       "    }\n",
       "</style>\n",
       "<table border=\"1\" class=\"dataframe\">\n",
       "  <thead>\n",
       "    <tr style=\"text-align: right;\">\n",
       "      <th></th>\n",
       "      <th>Phone Name</th>\n",
       "      <th>Rating ?/5</th>\n",
       "      <th>Number of Ratings</th>\n",
       "      <th>RAM</th>\n",
       "      <th>ROM/Storage</th>\n",
       "      <th>Back/Rare Camera</th>\n",
       "      <th>Front Camera</th>\n",
       "      <th>Battery</th>\n",
       "      <th>Processor</th>\n",
       "      <th>Price in INR</th>\n",
       "      <th>Date of Scraping</th>\n",
       "    </tr>\n",
       "  </thead>\n",
       "  <tbody>\n",
       "    <tr>\n",
       "      <th>0</th>\n",
       "      <td>POCO C50 (Royal Blue, 32 GB)</td>\n",
       "      <td>4.2</td>\n",
       "      <td>33561</td>\n",
       "      <td>2 GB RAM</td>\n",
       "      <td>32 GB ROM</td>\n",
       "      <td>8MP Dual Camera</td>\n",
       "      <td>5MP Front Camera</td>\n",
       "      <td>5000 mAh</td>\n",
       "      <td>Mediatek Helio A22 Processor, Upto 2.0 GHz Pro...</td>\n",
       "      <td>5649</td>\n",
       "      <td>2023-06-17</td>\n",
       "    </tr>\n",
       "    <tr>\n",
       "      <th>1</th>\n",
       "      <td>POCO M4 5G (Cool Blue, 64 GB)</td>\n",
       "      <td>4.2</td>\n",
       "      <td>77128</td>\n",
       "      <td>4 GB RAM</td>\n",
       "      <td>64 GB ROM</td>\n",
       "      <td>50MP + 2MP</td>\n",
       "      <td>8MP Front Camera</td>\n",
       "      <td>5000 mAh</td>\n",
       "      <td>Mediatek Dimensity 700 Processor</td>\n",
       "      <td>11999</td>\n",
       "      <td>2023-06-17</td>\n",
       "    </tr>\n",
       "    <tr>\n",
       "      <th>2</th>\n",
       "      <td>POCO C51 (Royal Blue, 64 GB)</td>\n",
       "      <td>4.3</td>\n",
       "      <td>15175</td>\n",
       "      <td>4 GB RAM</td>\n",
       "      <td>64 GB ROM</td>\n",
       "      <td>8MP Dual Rear Camera</td>\n",
       "      <td>5MP Front Camera</td>\n",
       "      <td>5000 mAh</td>\n",
       "      <td>Helio G36 Processor</td>\n",
       "      <td>6999</td>\n",
       "      <td>2023-06-17</td>\n",
       "    </tr>\n",
       "    <tr>\n",
       "      <th>3</th>\n",
       "      <td>POCO C55 (Cool Blue, 64 GB)</td>\n",
       "      <td>4.2</td>\n",
       "      <td>22621</td>\n",
       "      <td>4 GB RAM</td>\n",
       "      <td>64 GB ROM</td>\n",
       "      <td>50MP Dual Rear Camera</td>\n",
       "      <td>5MP Front Camera</td>\n",
       "      <td>5000 mAh</td>\n",
       "      <td>Mediatek Helio G85 Processor</td>\n",
       "      <td>7749</td>\n",
       "      <td>2023-06-17</td>\n",
       "    </tr>\n",
       "    <tr>\n",
       "      <th>4</th>\n",
       "      <td>POCO C51 (Power Black, 64 GB)</td>\n",
       "      <td>4.3</td>\n",
       "      <td>15175</td>\n",
       "      <td>4 GB RAM</td>\n",
       "      <td>64 GB ROM</td>\n",
       "      <td>8MP Dual Rear Camera</td>\n",
       "      <td>5MP Front Camera</td>\n",
       "      <td>5000 mAh</td>\n",
       "      <td>Helio G36 Processor</td>\n",
       "      <td>6999</td>\n",
       "      <td>2023-06-17</td>\n",
       "    </tr>\n",
       "  </tbody>\n",
       "</table>\n",
       "</div>"
      ],
      "text/plain": [
       "                      Phone Name  Rating ?/5  Number of Ratings       RAM  \\\n",
       "0   POCO C50 (Royal Blue, 32 GB)         4.2              33561  2 GB RAM   \n",
       "1  POCO M4 5G (Cool Blue, 64 GB)         4.2              77128  4 GB RAM   \n",
       "2   POCO C51 (Royal Blue, 64 GB)         4.3              15175  4 GB RAM   \n",
       "3    POCO C55 (Cool Blue, 64 GB)         4.2              22621  4 GB RAM   \n",
       "4  POCO C51 (Power Black, 64 GB)         4.3              15175  4 GB RAM   \n",
       "\n",
       "  ROM/Storage       Back/Rare Camera      Front Camera   Battery  \\\n",
       "0   32 GB ROM        8MP Dual Camera  5MP Front Camera  5000 mAh   \n",
       "1   64 GB ROM             50MP + 2MP  8MP Front Camera  5000 mAh   \n",
       "2   64 GB ROM   8MP Dual Rear Camera  5MP Front Camera  5000 mAh   \n",
       "3   64 GB ROM  50MP Dual Rear Camera  5MP Front Camera  5000 mAh   \n",
       "4   64 GB ROM   8MP Dual Rear Camera  5MP Front Camera  5000 mAh   \n",
       "\n",
       "                                           Processor  Price in INR  \\\n",
       "0  Mediatek Helio A22 Processor, Upto 2.0 GHz Pro...          5649   \n",
       "1                   Mediatek Dimensity 700 Processor         11999   \n",
       "2                                Helio G36 Processor          6999   \n",
       "3                       Mediatek Helio G85 Processor          7749   \n",
       "4                                Helio G36 Processor          6999   \n",
       "\n",
       "  Date of Scraping  \n",
       "0       2023-06-17  \n",
       "1       2023-06-17  \n",
       "2       2023-06-17  \n",
       "3       2023-06-17  \n",
       "4       2023-06-17  "
      ]
     },
     "execution_count": 10,
     "metadata": {},
     "output_type": "execute_result"
    }
   ],
   "source": [
    "df.head(5)"
   ]
  },
  {
   "cell_type": "code",
   "execution_count": 11,
   "id": "8d6b3e26",
   "metadata": {},
   "outputs": [
    {
     "data": {
      "text/html": [
       "<div>\n",
       "<style scoped>\n",
       "    .dataframe tbody tr th:only-of-type {\n",
       "        vertical-align: middle;\n",
       "    }\n",
       "\n",
       "    .dataframe tbody tr th {\n",
       "        vertical-align: top;\n",
       "    }\n",
       "\n",
       "    .dataframe thead th {\n",
       "        text-align: right;\n",
       "    }\n",
       "</style>\n",
       "<table border=\"1\" class=\"dataframe\">\n",
       "  <thead>\n",
       "    <tr style=\"text-align: right;\">\n",
       "      <th></th>\n",
       "      <th>Phone Name</th>\n",
       "      <th>Rating ?/5</th>\n",
       "      <th>Number of Ratings</th>\n",
       "      <th>RAM</th>\n",
       "      <th>ROM/Storage</th>\n",
       "      <th>Back/Rare Camera</th>\n",
       "      <th>Front Camera</th>\n",
       "      <th>Battery</th>\n",
       "      <th>Processor</th>\n",
       "      <th>Price in INR</th>\n",
       "      <th>Date of Scraping</th>\n",
       "    </tr>\n",
       "  </thead>\n",
       "  <tbody>\n",
       "    <tr>\n",
       "      <th>0</th>\n",
       "      <td>746</td>\n",
       "      <td>4.2</td>\n",
       "      <td>33561</td>\n",
       "      <td>16</td>\n",
       "      <td>14</td>\n",
       "      <td>171</td>\n",
       "      <td>26</td>\n",
       "      <td>78</td>\n",
       "      <td>187</td>\n",
       "      <td>5649</td>\n",
       "      <td>0</td>\n",
       "    </tr>\n",
       "    <tr>\n",
       "      <th>1</th>\n",
       "      <td>789</td>\n",
       "      <td>4.2</td>\n",
       "      <td>77128</td>\n",
       "      <td>25</td>\n",
       "      <td>20</td>\n",
       "      <td>118</td>\n",
       "      <td>32</td>\n",
       "      <td>78</td>\n",
       "      <td>173</td>\n",
       "      <td>11999</td>\n",
       "      <td>0</td>\n",
       "    </tr>\n",
       "    <tr>\n",
       "      <th>2</th>\n",
       "      <td>748</td>\n",
       "      <td>4.3</td>\n",
       "      <td>15175</td>\n",
       "      <td>25</td>\n",
       "      <td>20</td>\n",
       "      <td>172</td>\n",
       "      <td>26</td>\n",
       "      <td>78</td>\n",
       "      <td>106</td>\n",
       "      <td>6999</td>\n",
       "      <td>0</td>\n",
       "    </tr>\n",
       "    <tr>\n",
       "      <th>3</th>\n",
       "      <td>750</td>\n",
       "      <td>4.2</td>\n",
       "      <td>22621</td>\n",
       "      <td>25</td>\n",
       "      <td>20</td>\n",
       "      <td>137</td>\n",
       "      <td>26</td>\n",
       "      <td>78</td>\n",
       "      <td>193</td>\n",
       "      <td>7749</td>\n",
       "      <td>0</td>\n",
       "    </tr>\n",
       "    <tr>\n",
       "      <th>4</th>\n",
       "      <td>747</td>\n",
       "      <td>4.3</td>\n",
       "      <td>15175</td>\n",
       "      <td>25</td>\n",
       "      <td>20</td>\n",
       "      <td>172</td>\n",
       "      <td>26</td>\n",
       "      <td>78</td>\n",
       "      <td>106</td>\n",
       "      <td>6999</td>\n",
       "      <td>0</td>\n",
       "    </tr>\n",
       "  </tbody>\n",
       "</table>\n",
       "</div>"
      ],
      "text/plain": [
       "   Phone Name  Rating ?/5  Number of Ratings  RAM  ROM/Storage  \\\n",
       "0         746         4.2              33561   16           14   \n",
       "1         789         4.2              77128   25           20   \n",
       "2         748         4.3              15175   25           20   \n",
       "3         750         4.2              22621   25           20   \n",
       "4         747         4.3              15175   25           20   \n",
       "\n",
       "   Back/Rare Camera  Front Camera  Battery  Processor  Price in INR  \\\n",
       "0               171            26       78        187          5649   \n",
       "1               118            32       78        173         11999   \n",
       "2               172            26       78        106          6999   \n",
       "3               137            26       78        193          7749   \n",
       "4               172            26       78        106          6999   \n",
       "\n",
       "   Date of Scraping  \n",
       "0                 0  \n",
       "1                 0  \n",
       "2                 0  \n",
       "3                 0  \n",
       "4                 0  "
      ]
     },
     "execution_count": 11,
     "metadata": {},
     "output_type": "execute_result"
    }
   ],
   "source": [
    "## convert categorical to numerical\n",
    "encoder= LabelEncoder()\n",
    "category=df.select_dtypes(include=[\"object\",\"category\"])\n",
    "for x in category:\n",
    "    df[x]=encoder.fit_transform(df[x])\n",
    "df.head()"
   ]
  },
  {
   "cell_type": "code",
   "execution_count": 12,
   "id": "0270a8f1",
   "metadata": {},
   "outputs": [],
   "source": [
    "## splitting the dataset between x and y, x(independent) which are multiple variable and y (dependent) which is only\n",
    "## one variable\n",
    "X=df.drop([\"Price in INR\"],axis=1)\n",
    "y=df[\"Price in INR\"]"
   ]
  },
  {
   "cell_type": "code",
   "execution_count": 13,
   "id": "7fe732e2",
   "metadata": {},
   "outputs": [
    {
     "name": "stdout",
     "output_type": "stream",
     "text": [
      "Phone Name           0\n",
      "Rating ?/5           0\n",
      "Number of Ratings    0\n",
      "RAM                  0\n",
      "ROM/Storage          0\n",
      "Back/Rare Camera     0\n",
      "Front Camera         0\n",
      "Battery              0\n",
      "Processor            0\n",
      "Date of Scraping     0\n",
      "dtype: int64\n"
     ]
    }
   ],
   "source": [
    "print(X.isnull().sum())"
   ]
  },
  {
   "cell_type": "code",
   "execution_count": 14,
   "id": "29b0057b-9908-4596-a2ab-9c4669d26315",
   "metadata": {
    "tags": []
   },
   "outputs": [
    {
     "data": {
      "text/html": [
       "<div>\n",
       "<style scoped>\n",
       "    .dataframe tbody tr th:only-of-type {\n",
       "        vertical-align: middle;\n",
       "    }\n",
       "\n",
       "    .dataframe tbody tr th {\n",
       "        vertical-align: top;\n",
       "    }\n",
       "\n",
       "    .dataframe thead th {\n",
       "        text-align: right;\n",
       "    }\n",
       "</style>\n",
       "<table border=\"1\" class=\"dataframe\">\n",
       "  <thead>\n",
       "    <tr style=\"text-align: right;\">\n",
       "      <th></th>\n",
       "      <th>Phone Name</th>\n",
       "      <th>Rating ?/5</th>\n",
       "      <th>Number of Ratings</th>\n",
       "      <th>RAM</th>\n",
       "      <th>ROM/Storage</th>\n",
       "      <th>Back/Rare Camera</th>\n",
       "      <th>Front Camera</th>\n",
       "      <th>Battery</th>\n",
       "      <th>Processor</th>\n",
       "      <th>Date of Scraping</th>\n",
       "    </tr>\n",
       "  </thead>\n",
       "  <tbody>\n",
       "    <tr>\n",
       "      <th>0</th>\n",
       "      <td>746</td>\n",
       "      <td>4.2</td>\n",
       "      <td>33561</td>\n",
       "      <td>16</td>\n",
       "      <td>14</td>\n",
       "      <td>171</td>\n",
       "      <td>26</td>\n",
       "      <td>78</td>\n",
       "      <td>187</td>\n",
       "      <td>0</td>\n",
       "    </tr>\n",
       "    <tr>\n",
       "      <th>1</th>\n",
       "      <td>789</td>\n",
       "      <td>4.2</td>\n",
       "      <td>77128</td>\n",
       "      <td>25</td>\n",
       "      <td>20</td>\n",
       "      <td>118</td>\n",
       "      <td>32</td>\n",
       "      <td>78</td>\n",
       "      <td>173</td>\n",
       "      <td>0</td>\n",
       "    </tr>\n",
       "    <tr>\n",
       "      <th>2</th>\n",
       "      <td>748</td>\n",
       "      <td>4.3</td>\n",
       "      <td>15175</td>\n",
       "      <td>25</td>\n",
       "      <td>20</td>\n",
       "      <td>172</td>\n",
       "      <td>26</td>\n",
       "      <td>78</td>\n",
       "      <td>106</td>\n",
       "      <td>0</td>\n",
       "    </tr>\n",
       "    <tr>\n",
       "      <th>3</th>\n",
       "      <td>750</td>\n",
       "      <td>4.2</td>\n",
       "      <td>22621</td>\n",
       "      <td>25</td>\n",
       "      <td>20</td>\n",
       "      <td>137</td>\n",
       "      <td>26</td>\n",
       "      <td>78</td>\n",
       "      <td>193</td>\n",
       "      <td>0</td>\n",
       "    </tr>\n",
       "    <tr>\n",
       "      <th>4</th>\n",
       "      <td>747</td>\n",
       "      <td>4.3</td>\n",
       "      <td>15175</td>\n",
       "      <td>25</td>\n",
       "      <td>20</td>\n",
       "      <td>172</td>\n",
       "      <td>26</td>\n",
       "      <td>78</td>\n",
       "      <td>106</td>\n",
       "      <td>0</td>\n",
       "    </tr>\n",
       "  </tbody>\n",
       "</table>\n",
       "</div>"
      ],
      "text/plain": [
       "   Phone Name  Rating ?/5  Number of Ratings  RAM  ROM/Storage  \\\n",
       "0         746         4.2              33561   16           14   \n",
       "1         789         4.2              77128   25           20   \n",
       "2         748         4.3              15175   25           20   \n",
       "3         750         4.2              22621   25           20   \n",
       "4         747         4.3              15175   25           20   \n",
       "\n",
       "   Back/Rare Camera  Front Camera  Battery  Processor  Date of Scraping  \n",
       "0               171            26       78        187                 0  \n",
       "1               118            32       78        173                 0  \n",
       "2               172            26       78        106                 0  \n",
       "3               137            26       78        193                 0  \n",
       "4               172            26       78        106                 0  "
      ]
     },
     "execution_count": 14,
     "metadata": {},
     "output_type": "execute_result"
    }
   ],
   "source": [
    "X.head()"
   ]
  },
  {
   "cell_type": "code",
   "execution_count": 15,
   "id": "c6ad7e25-f13e-4ba5-a3c0-533c9043bad3",
   "metadata": {
    "tags": []
   },
   "outputs": [
    {
     "data": {
      "text/plain": [
       "0     5649\n",
       "1    11999\n",
       "2     6999\n",
       "3     7749\n",
       "4     6999\n",
       "Name: Price in INR, dtype: int64"
      ]
     },
     "execution_count": 15,
     "metadata": {},
     "output_type": "execute_result"
    }
   ],
   "source": [
    "y.head()"
   ]
  },
  {
   "cell_type": "code",
   "execution_count": 16,
   "id": "8570c81c",
   "metadata": {},
   "outputs": [
    {
     "data": {
      "image/png": "[encoded data removed]",
      "text/plain": [
       "<Figure size 640x480 with 1 Axes>"
      ]
     },
     "metadata": {},
     "output_type": "display_data"
    }
   ],
   "source": [
    "## the mutual importance between each features\n",
    "plt.style.use(\"ggplot\")\n",
    "importance= mutual_info_regression(X,y)\n",
    "feature_impo=pd.Series(importance,X.columns[0:len(X.columns)])\n",
    "feature_impo.plot(kind=\"barh\",color=\"red\")\n",
    "plt.show()"
   ]
  },
  {
   "cell_type": "code",
   "execution_count": 17,
   "id": "0350f829",
   "metadata": {},
   "outputs": [],
   "source": [
    "## splitting the dataset into training and testing set\n",
    "xtrain,xtest,ytrain,ytest=train_test_split(X,y, test_size=0.2,random_state=1)"
   ]
  },
  {
   "cell_type": "code",
   "execution_count": 18,
   "id": "45c2f512",
   "metadata": {
    "tags": []
   },
   "outputs": [
    {
     "data": {
      "text/html": [
       "<style>#sk-container-id-1 {color: black;}#sk-container-id-1 pre{padding: 0;}#sk-container-id-1 div.sk-toggleable {background-color: white;}#sk-container-id-1 label.sk-toggleable__label {cursor: pointer;display: block;width: 100%;margin-bottom: 0;padding: 0.3em;box-sizing: border-box;text-align: center;}#sk-container-id-1 label.sk-toggleable__label-arrow:before {content: \"▸\";float: left;margin-right: 0.25em;color: #696969;}#sk-container-id-1 label.sk-toggleable__label-arrow:hover:before {color: black;}#sk-container-id-1 div.sk-estimator:hover label.sk-toggleable__label-arrow:before {color: black;}#sk-container-id-1 div.sk-toggleable__content {max-height: 0;max-width: 0;overflow: hidden;text-align: left;background-color: #f0f8ff;}#sk-container-id-1 div.sk-toggleable__content pre {margin: 0.2em;color: black;border-radius: 0.25em;background-color: #f0f8ff;}#sk-container-id-1 input.sk-toggleable__control:checked~div.sk-toggleable__content {max-height: 200px;max-width: 100%;overflow: auto;}#sk-container-id-1 input.sk-toggleable__control:checked~label.sk-toggleable__label-arrow:before {content: \"▾\";}#sk-container-id-1 div.sk-estimator input.sk-toggleable__control:checked~label.sk-toggleable__label {background-color: #d4ebff;}#sk-container-id-1 div.sk-label input.sk-toggleable__control:checked~label.sk-toggleable__label {background-color: #d4ebff;}#sk-container-id-1 input.sk-hidden--visually {border: 0;clip: rect(1px 1px 1px 1px);clip: rect(1px, 1px, 1px, 1px);height: 1px;margin: -1px;overflow: hidden;padding: 0;position: absolute;width: 1px;}#sk-container-id-1 div.sk-estimator {font-family: monospace;background-color: #f0f8ff;border: 1px dotted black;border-radius: 0.25em;box-sizing: border-box;margin-bottom: 0.5em;}#sk-container-id-1 div.sk-estimator:hover {background-color: #d4ebff;}#sk-container-id-1 div.sk-parallel-item::after {content: \"\";width: 100%;border-bottom: 1px solid gray;flex-grow: 1;}#sk-container-id-1 div.sk-label:hover label.sk-toggleable__label {background-color: #d4ebff;}#sk-container-id-1 div.sk-serial::before {content: \"\";position: absolute;border-left: 1px solid gray;box-sizing: border-box;top: 0;bottom: 0;left: 50%;z-index: 0;}#sk-container-id-1 div.sk-serial {display: flex;flex-direction: column;align-items: center;background-color: white;padding-right: 0.2em;padding-left: 0.2em;position: relative;}#sk-container-id-1 div.sk-item {position: relative;z-index: 1;}#sk-container-id-1 div.sk-parallel {display: flex;align-items: stretch;justify-content: center;background-color: white;position: relative;}#sk-container-id-1 div.sk-item::before, #sk-container-id-1 div.sk-parallel-item::before {content: \"\";position: absolute;border-left: 1px solid gray;box-sizing: border-box;top: 0;bottom: 0;left: 50%;z-index: -1;}#sk-container-id-1 div.sk-parallel-item {display: flex;flex-direction: column;z-index: 1;position: relative;background-color: white;}#sk-container-id-1 div.sk-parallel-item:first-child::after {align-self: flex-end;width: 50%;}#sk-container-id-1 div.sk-parallel-item:last-child::after {align-self: flex-start;width: 50%;}#sk-container-id-1 div.sk-parallel-item:only-child::after {width: 0;}#sk-container-id-1 div.sk-dashed-wrapped {border: 1px dashed gray;margin: 0 0.4em 0.5em 0.4em;box-sizing: border-box;padding-bottom: 0.4em;background-color: white;}#sk-container-id-1 div.sk-label label {font-family: monospace;font-weight: bold;display: inline-block;line-height: 1.2em;}#sk-container-id-1 div.sk-label-container {text-align: center;}#sk-container-id-1 div.sk-container {/* jupyter's `normalize.less` sets `[hidden] { display: none; }` but bootstrap.min.css set `[hidden] { display: none !important; }` so we also need the `!important` here to be able to override the default hidden behavior on the sphinx rendered scikit-learn.org. See: https://github.com/scikit-learn/scikit-learn/issues/21755 */display: inline-block !important;position: relative;}#sk-container-id-1 div.sk-text-repr-fallback {display: none;}</style><div id=\"sk-container-id-1\" class=\"sk-top-container\"><div class=\"sk-text-repr-fallback\"><pre>Pipeline(steps=[(&#x27;Scaler&#x27;, StandardScaler()),\n",
       "                (&#x27;Regression&#x27;, LinearRegression())])</pre><b>In a Jupyter environment, please rerun this cell to show the HTML representation or trust the notebook. <br />On GitHub, the HTML representation is unable to render, please try loading this page with nbviewer.org.</b></div><div class=\"sk-container\" hidden><div class=\"sk-item sk-dashed-wrapped\"><div class=\"sk-label-container\"><div class=\"sk-label sk-toggleable\"><input class=\"sk-toggleable__control sk-hidden--visually\" id=\"sk-estimator-id-1\" type=\"checkbox\" ><label for=\"sk-estimator-id-1\" class=\"sk-toggleable__label sk-toggleable__label-arrow\">Pipeline</label><div class=\"sk-toggleable__content\"><pre>Pipeline(steps=[(&#x27;Scaler&#x27;, StandardScaler()),\n",
       "                (&#x27;Regression&#x27;, LinearRegression())])</pre></div></div></div><div class=\"sk-serial\"><div class=\"sk-item\"><div class=\"sk-estimator sk-toggleable\"><input class=\"sk-toggleable__control sk-hidden--visually\" id=\"sk-estimator-id-2\" type=\"checkbox\" ><label for=\"sk-estimator-id-2\" class=\"sk-toggleable__label sk-toggleable__label-arrow\">StandardScaler</label><div class=\"sk-toggleable__content\"><pre>StandardScaler()</pre></div></div></div><div class=\"sk-item\"><div class=\"sk-estimator sk-toggleable\"><input class=\"sk-toggleable__control sk-hidden--visually\" id=\"sk-estimator-id-3\" type=\"checkbox\" ><label for=\"sk-estimator-id-3\" class=\"sk-toggleable__label sk-toggleable__label-arrow\">LinearRegression</label><div class=\"sk-toggleable__content\"><pre>LinearRegression()</pre></div></div></div></div></div></div></div>"
      ],
      "text/plain": [
       "Pipeline(steps=[('Scaler', StandardScaler()),\n",
       "                ('Regression', LinearRegression())])"
      ]
     },
     "execution_count": 18,
     "metadata": {},
     "output_type": "execute_result"
    }
   ],
   "source": [
    "##from sklearn.pipeline import pipeline\n",
    "LinearModel=Pipeline([(\"Scaler\",StandardScaler()),(\"Regression\",LinearRegression())])\n",
    "LinearModel.fit(xtrain,ytrain)"
   ]
  },
  {
   "cell_type": "code",
   "execution_count": 19,
   "id": "1592f60e-f42d-4181-b0b2-349ac9a3ec38",
   "metadata": {
    "tags": []
   },
   "outputs": [
    {
     "data": {
      "text/plain": [
       "array([ 3.09322168e+04,  3.72279975e+04,  3.32348742e+04,  1.76005273e+04,\n",
       "        3.86593758e+04,  9.39553665e+03,  1.99560569e+04,  2.21384330e+04,\n",
       "        2.11334887e+03,  2.20479428e+04,  2.44293145e+04,  3.08396963e+04,\n",
       "        1.14675239e+04,  1.42061333e+04, -6.04110322e+03,  3.99319337e+04,\n",
       "        2.57262453e+04,  3.16468414e+04,  1.77122623e+04,  3.25989433e+04,\n",
       "        1.65748486e+04,  1.63697139e+04,  7.09390271e+04,  1.11860620e+04,\n",
       "        1.22305552e+04,  2.54575864e+04,  6.62853153e+04,  1.87194383e+04,\n",
       "        9.77064990e+03,  2.62201423e+04,  1.98641986e+04,  4.55823547e+04,\n",
       "        3.19349640e+03,  6.06564818e+04, -2.50477349e+02,  5.34226039e+02,\n",
       "        2.85090685e+04,  9.50617644e+03,  3.45372101e+03,  1.11674189e+04,\n",
       "        6.56442650e+04,  2.30862971e+04,  7.83518183e+03,  1.14582023e+04,\n",
       "        1.72451155e+04,  3.09028450e+04,  1.12151032e+04,  3.43582366e+04,\n",
       "        3.40345324e+04,  1.72663052e+04,  3.58553318e+04,  7.68046185e+03,\n",
       "        1.67993461e+04,  3.08954074e+04,  6.79582257e+03,  2.82705476e+04,\n",
       "        2.63248287e+04,  1.81435819e+04,  1.77318058e+04,  1.05308407e+04,\n",
       "        2.79754194e+04,  1.23946690e+04,  2.53921761e+04,  8.88135428e+03,\n",
       "        3.83353426e+04,  1.73518602e+04,  1.95579646e+04,  1.03471385e+04,\n",
       "        2.62014991e+04,  3.33271628e+04,  1.44741440e+04,  3.30663886e+04,\n",
       "        1.88884750e+04,  6.91083917e+04,  2.59986156e+04,  3.51230522e+04,\n",
       "        2.73145000e+04,  2.44386361e+04,  2.61353013e+04,  3.74681282e+04,\n",
       "        6.54368917e+03,  2.39002175e+04,  8.23544695e+03,  1.06746203e+04,\n",
       "        2.14616958e+04,  2.18446999e+03,  3.16276104e+04,  8.09643038e+03,\n",
       "        1.85198003e+04,  1.64165525e+04,  2.45961250e+04,  2.12340023e+04,\n",
       "        8.28044098e+03,  2.56803408e+04,  3.53542627e+04,  1.47318042e+04,\n",
       "        8.56052199e+03,  3.23492752e+04,  1.59802600e+04,  1.38215301e+04,\n",
       "        1.01321606e+04,  2.59854843e+04,  3.69631756e+04,  1.41142198e+04,\n",
       "        3.52069913e+04,  2.23142777e+04,  6.07310543e+04,  1.24376231e+04,\n",
       "        2.57959364e+04,  3.54557994e+04,  4.46141087e+03,  2.48887095e+04,\n",
       "        2.99947915e+04,  5.62432745e+04, -1.14481753e+02,  1.41142198e+04,\n",
       "        1.45939565e+04,  3.27440785e+04,  6.13058968e+04,  1.30949319e+04,\n",
       "        2.51740057e+04,  2.18855370e+04,  2.80066157e+04,  2.64933005e+04,\n",
       "        1.65375623e+04,  3.56649644e+04,  1.74241490e+04,  1.65562054e+04,\n",
       "        1.01329655e+04,  3.76177577e+04,  1.70145634e+04,  6.57302838e+03,\n",
       "        2.10026570e+04,  2.44712543e+04,  3.86500543e+04,  2.42994860e+04,\n",
       "        2.08752168e+04,  3.14768263e+04,  3.46759882e+04,  6.63319231e+04,\n",
       "        5.59931457e+04,  2.41623835e+04,  4.26092361e+02,  1.08806226e+04,\n",
       "        3.65101366e+04,  3.56123616e+04,  1.83098869e+03, -6.98637058e+03,\n",
       "        3.89566754e+04,  1.69052105e+04,  1.01433781e+04, -5.03436124e+02,\n",
       "        8.19711276e+03,  7.70289513e+03,  1.23277196e+04,  2.94716474e+04,\n",
       "        7.02700122e+04,  2.12280261e+04,  5.69751532e+03,  1.99653785e+04,\n",
       "        2.11166579e+03,  9.34442687e+03,  3.51794244e+03,  1.96564012e+04,\n",
       "        9.69393975e+03,  3.52836415e+04,  3.93760569e+04,  3.42656059e+04,\n",
       "        8.90790113e+03,  3.41245132e+03,  2.95541652e+04,  3.75712032e+04,\n",
       "        2.54389432e+04,  6.89712092e+03,  9.62250313e+03,  2.16739524e+04,\n",
       "        3.79218624e+04,  1.30081527e+04,  2.12431944e+04,  6.51781891e+04,\n",
       "        1.29215771e+04,  5.35374761e+03,  1.61668127e+04,  2.13534256e+01,\n",
       "        2.01950371e+04,  7.67861833e+03,  1.67140108e+04,  5.86589583e+04,\n",
       "        2.25562191e+04,  3.53110356e+04,  8.17513573e+02,  1.73266915e+04,\n",
       "        1.71472703e+04,  3.03560116e+04,  1.72715682e+04, -5.74418329e+02,\n",
       "        2.32937490e+04,  4.01096666e+04,  3.29419145e+04, -7.08357108e+01,\n",
       "        1.42617649e+04,  3.74739530e+04,  1.06652988e+04,  2.18992810e+04,\n",
       "        2.06660969e+04,  8.70345227e+03,  3.42656059e+04,  5.61014188e+04,\n",
       "        2.46349401e+04,  1.20155535e+04,  2.67178120e+04,  1.12810948e+04,\n",
       "        1.41675676e+04,  8.50202619e+03,  1.01918804e+04,  1.81699226e+04,\n",
       "        1.38258247e+04,  1.85897976e+04,  2.96275281e+04,  9.99180264e+03,\n",
       "        1.22333708e+04,  2.13534256e+01,  3.15943276e+04,  1.46883228e+04,\n",
       "        2.84044120e+04,  6.12872537e+04,  2.35877554e+04,  1.85314501e+04,\n",
       "        3.23846164e+04,  3.79702804e+02,  3.55616518e+04, -4.32967570e+01,\n",
       "        3.26175864e+04,  3.07157077e+03,  1.88791534e+04,  3.75070788e+04,\n",
       "        1.91452534e+04,  3.64914935e+04,  2.84904254e+04,  1.79806085e+04,\n",
       "        2.51309881e+04,  2.85068378e+04,  4.29029719e+04,  4.34069418e+04,\n",
       "        3.48049868e+04,  3.90626970e+04,  2.12968856e+04,  3.12731750e+04,\n",
       "        3.06958084e+04,  1.49172245e+04,  3.08078782e+04,  1.18968043e+04,\n",
       "        2.36067763e+04,  1.19873425e+04,  3.27627216e+04,  1.06071775e+04,\n",
       "        2.39173388e+04,  1.02058786e+04,  7.86611691e+03,  1.94989294e+04,\n",
       "        6.82818637e+04,  7.17208728e+04,  3.12666297e+04,  2.19414664e+04,\n",
       "        6.84274230e+04,  2.39467475e+04,  2.10653330e+04,  4.42901468e+04,\n",
       "        1.77607382e+04,  3.64227698e+04,  3.13990776e+04,  1.98408815e+04,\n",
       "        1.98072342e+04,  1.69300286e+03,  2.66833175e+04,  1.74032097e+04,\n",
       "        3.40875756e+04,  3.55937185e+04,  3.47970708e+04,  6.01929761e+04,\n",
       "        5.25732991e+03,  3.61059676e+02,  2.29836091e+04,  1.04094182e+04,\n",
       "        6.88296448e+04,  6.07030896e+04,  1.18630042e+04,  2.64779653e+04,\n",
       "        3.29243416e+04,  8.13612419e+03,  2.13534256e+01,  3.15850060e+04,\n",
       "        5.69426139e+03,  3.51839840e+04,  1.90907260e+04,  3.25599916e+04,\n",
       "        3.60494292e+04,  9.49685488e+03,  2.60647251e+04,  2.97293132e+04,\n",
       "        3.56030401e+04,  3.64462119e+04,  3.23210880e+04,  2.64275836e+04,\n",
       "        5.60117888e+04,  1.59616169e+04,  3.46304258e+03,  4.19085485e+04,\n",
       "        3.08351179e+04,  2.64692292e+04,  1.83584056e+04,  3.23190621e+04,\n",
       "        8.07889286e+03,  2.93582369e+04,  3.00980962e+04,  1.20421548e+04,\n",
       "        5.79730855e+03,  5.60739595e+03,  1.28834341e+04,  2.26527463e+03,\n",
       "        1.88736293e+04,  1.60054739e+04,  3.76364009e+04,  5.61293835e+04,\n",
       "        1.92963768e+04,  1.47273414e+04,  3.10224275e+04,  2.80437937e+04,\n",
       "        1.56420526e+04,  3.40511211e+04,  5.00663478e+04,  2.06742537e+04,\n",
       "        1.18698089e+04,  9.12199006e+03,  2.27010077e+04,  8.20643432e+03,\n",
       "        2.65264002e+04,  9.75200677e+03,  1.25326698e+04,  3.55266333e+04,\n",
       "        9.02227458e+03,  2.45061477e+04,  2.91785086e+04,  1.54703109e+04,\n",
       "        1.18781612e+04,  3.27511360e+04,  3.64503006e+04,  1.86918159e+04,\n",
       "        3.73899799e+04,  1.90550976e+04,  3.43582366e+04,  1.30240718e+04,\n",
       "        2.92784715e+04,  5.40514168e+04,  2.65646157e+04,  8.66117623e+03,\n",
       "        2.19139632e+04,  1.72078293e+04,  3.09038933e+04,  1.67713815e+04,\n",
       "        3.57855288e+04,  1.62855024e+04,  1.60594554e+04,  1.23183980e+04,\n",
       "        1.07196597e+04,  2.42563190e+04,  2.12446875e+04,  4.11985103e+04])"
      ]
     },
     "execution_count": 19,
     "metadata": {},
     "output_type": "execute_result"
    }
   ],
   "source": [
    "pred1=LinearModel.predict(xtest)\n",
    "pred1"
   ]
  },
  {
   "cell_type": "code",
   "execution_count": 20,
   "id": "9c3c4211-c3ea-44ed-87c6-e20ae2da6a1d",
   "metadata": {
    "tags": []
   },
   "outputs": [
    {
     "name": "stdout",
     "output_type": "stream",
     "text": [
      "MAE 13737.99219635259\n",
      "MAPE 1.6216722035676847\n",
      "MSE 362139163.78688395\n",
      "R2 SCORE 0.270678346717936\n"
     ]
    }
   ],
   "source": [
    "print(\"MAE\",mean_absolute_error(ytest,pred1))\n",
    "print(\"MAPE\",mean_absolute_percentage_error(ytest,pred1))\n",
    "print(\"MSE\",mean_squared_error(ytest,pred1))\n",
    "print(\"R2 SCORE\",r2_score(ytest,pred1))"
   ]
  },
  {
   "cell_type": "code",
   "execution_count": 21,
   "id": "396f8fbf-0caa-4d73-84c9-e0d0fe0f0c35",
   "metadata": {
    "tags": []
   },
   "outputs": [
    {
     "data": {
      "text/html": [
       "<div>\n",
       "<style scoped>\n",
       "    .dataframe tbody tr th:only-of-type {\n",
       "        vertical-align: middle;\n",
       "    }\n",
       "\n",
       "    .dataframe tbody tr th {\n",
       "        vertical-align: top;\n",
       "    }\n",
       "\n",
       "    .dataframe thead th {\n",
       "        text-align: right;\n",
       "    }\n",
       "</style>\n",
       "<table border=\"1\" class=\"dataframe\">\n",
       "  <thead>\n",
       "    <tr style=\"text-align: right;\">\n",
       "      <th></th>\n",
       "      <th>Actual price</th>\n",
       "      <th>Predicted price</th>\n",
       "    </tr>\n",
       "  </thead>\n",
       "  <tbody>\n",
       "    <tr>\n",
       "      <th>556</th>\n",
       "      <td>20999</td>\n",
       "      <td>30932.216810</td>\n",
       "    </tr>\n",
       "    <tr>\n",
       "      <th>1386</th>\n",
       "      <td>1250</td>\n",
       "      <td>37227.997455</td>\n",
       "    </tr>\n",
       "    <tr>\n",
       "      <th>1450</th>\n",
       "      <td>16499</td>\n",
       "      <td>33234.874226</td>\n",
       "    </tr>\n",
       "    <tr>\n",
       "      <th>111</th>\n",
       "      <td>14999</td>\n",
       "      <td>17600.527312</td>\n",
       "    </tr>\n",
       "    <tr>\n",
       "      <th>1787</th>\n",
       "      <td>15999</td>\n",
       "      <td>38659.375837</td>\n",
       "    </tr>\n",
       "    <tr>\n",
       "      <th>...</th>\n",
       "      <td>...</td>\n",
       "      <td>...</td>\n",
       "    </tr>\n",
       "    <tr>\n",
       "      <th>790</th>\n",
       "      <td>13999</td>\n",
       "      <td>12318.398017</td>\n",
       "    </tr>\n",
       "    <tr>\n",
       "      <th>846</th>\n",
       "      <td>10990</td>\n",
       "      <td>10719.659721</td>\n",
       "    </tr>\n",
       "    <tr>\n",
       "      <th>654</th>\n",
       "      <td>13499</td>\n",
       "      <td>24256.319003</td>\n",
       "    </tr>\n",
       "    <tr>\n",
       "      <th>1084</th>\n",
       "      <td>36600</td>\n",
       "      <td>21244.687460</td>\n",
       "    </tr>\n",
       "    <tr>\n",
       "      <th>1574</th>\n",
       "      <td>36990</td>\n",
       "      <td>41198.510318</td>\n",
       "    </tr>\n",
       "  </tbody>\n",
       "</table>\n",
       "<p>368 rows × 2 columns</p>\n",
       "</div>"
      ],
      "text/plain": [
       "      Actual price  Predicted price\n",
       "556          20999     30932.216810\n",
       "1386          1250     37227.997455\n",
       "1450         16499     33234.874226\n",
       "111          14999     17600.527312\n",
       "1787         15999     38659.375837\n",
       "...            ...              ...\n",
       "790          13999     12318.398017\n",
       "846          10990     10719.659721\n",
       "654          13499     24256.319003\n",
       "1084         36600     21244.687460\n",
       "1574         36990     41198.510318\n",
       "\n",
       "[368 rows x 2 columns]"
      ]
     },
     "execution_count": 21,
     "metadata": {},
     "output_type": "execute_result"
    }
   ],
   "source": [
    "outcome= { \n",
    "    \"Actual price\":ytest,\n",
    "    \"Predicted price\":pred1\n",
    "\n",
    "}\n",
    "df3=pd.DataFrame(outcome)\n",
    "df3"
   ]
  },
  {
   "cell_type": "code",
   "execution_count": 22,
   "id": "d4925b5a-97b1-4669-8db1-5fc6c884bfd5",
   "metadata": {
    "tags": []
   },
   "outputs": [
    {
     "data": {
      "text/html": [
       "<style>#sk-container-id-2 {color: black;}#sk-container-id-2 pre{padding: 0;}#sk-container-id-2 div.sk-toggleable {background-color: white;}#sk-container-id-2 label.sk-toggleable__label {cursor: pointer;display: block;width: 100%;margin-bottom: 0;padding: 0.3em;box-sizing: border-box;text-align: center;}#sk-container-id-2 label.sk-toggleable__label-arrow:before {content: \"▸\";float: left;margin-right: 0.25em;color: #696969;}#sk-container-id-2 label.sk-toggleable__label-arrow:hover:before {color: black;}#sk-container-id-2 div.sk-estimator:hover label.sk-toggleable__label-arrow:before {color: black;}#sk-container-id-2 div.sk-toggleable__content {max-height: 0;max-width: 0;overflow: hidden;text-align: left;background-color: #f0f8ff;}#sk-container-id-2 div.sk-toggleable__content pre {margin: 0.2em;color: black;border-radius: 0.25em;background-color: #f0f8ff;}#sk-container-id-2 input.sk-toggleable__control:checked~div.sk-toggleable__content {max-height: 200px;max-width: 100%;overflow: auto;}#sk-container-id-2 input.sk-toggleable__control:checked~label.sk-toggleable__label-arrow:before {content: \"▾\";}#sk-container-id-2 div.sk-estimator input.sk-toggleable__control:checked~label.sk-toggleable__label {background-color: #d4ebff;}#sk-container-id-2 div.sk-label input.sk-toggleable__control:checked~label.sk-toggleable__label {background-color: #d4ebff;}#sk-container-id-2 input.sk-hidden--visually {border: 0;clip: rect(1px 1px 1px 1px);clip: rect(1px, 1px, 1px, 1px);height: 1px;margin: -1px;overflow: hidden;padding: 0;position: absolute;width: 1px;}#sk-container-id-2 div.sk-estimator {font-family: monospace;background-color: #f0f8ff;border: 1px dotted black;border-radius: 0.25em;box-sizing: border-box;margin-bottom: 0.5em;}#sk-container-id-2 div.sk-estimator:hover {background-color: #d4ebff;}#sk-container-id-2 div.sk-parallel-item::after {content: \"\";width: 100%;border-bottom: 1px solid gray;flex-grow: 1;}#sk-container-id-2 div.sk-label:hover label.sk-toggleable__label {background-color: #d4ebff;}#sk-container-id-2 div.sk-serial::before {content: \"\";position: absolute;border-left: 1px solid gray;box-sizing: border-box;top: 0;bottom: 0;left: 50%;z-index: 0;}#sk-container-id-2 div.sk-serial {display: flex;flex-direction: column;align-items: center;background-color: white;padding-right: 0.2em;padding-left: 0.2em;position: relative;}#sk-container-id-2 div.sk-item {position: relative;z-index: 1;}#sk-container-id-2 div.sk-parallel {display: flex;align-items: stretch;justify-content: center;background-color: white;position: relative;}#sk-container-id-2 div.sk-item::before, #sk-container-id-2 div.sk-parallel-item::before {content: \"\";position: absolute;border-left: 1px solid gray;box-sizing: border-box;top: 0;bottom: 0;left: 50%;z-index: -1;}#sk-container-id-2 div.sk-parallel-item {display: flex;flex-direction: column;z-index: 1;position: relative;background-color: white;}#sk-container-id-2 div.sk-parallel-item:first-child::after {align-self: flex-end;width: 50%;}#sk-container-id-2 div.sk-parallel-item:last-child::after {align-self: flex-start;width: 50%;}#sk-container-id-2 div.sk-parallel-item:only-child::after {width: 0;}#sk-container-id-2 div.sk-dashed-wrapped {border: 1px dashed gray;margin: 0 0.4em 0.5em 0.4em;box-sizing: border-box;padding-bottom: 0.4em;background-color: white;}#sk-container-id-2 div.sk-label label {font-family: monospace;font-weight: bold;display: inline-block;line-height: 1.2em;}#sk-container-id-2 div.sk-label-container {text-align: center;}#sk-container-id-2 div.sk-container {/* jupyter's `normalize.less` sets `[hidden] { display: none; }` but bootstrap.min.css set `[hidden] { display: none !important; }` so we also need the `!important` here to be able to override the default hidden behavior on the sphinx rendered scikit-learn.org. See: https://github.com/scikit-learn/scikit-learn/issues/21755 */display: inline-block !important;position: relative;}#sk-container-id-2 div.sk-text-repr-fallback {display: none;}</style><div id=\"sk-container-id-2\" class=\"sk-top-container\"><div class=\"sk-text-repr-fallback\"><pre>DecisionTreeRegressor()</pre><b>In a Jupyter environment, please rerun this cell to show the HTML representation or trust the notebook. <br />On GitHub, the HTML representation is unable to render, please try loading this page with nbviewer.org.</b></div><div class=\"sk-container\" hidden><div class=\"sk-item\"><div class=\"sk-estimator sk-toggleable\"><input class=\"sk-toggleable__control sk-hidden--visually\" id=\"sk-estimator-id-4\" type=\"checkbox\" checked><label for=\"sk-estimator-id-4\" class=\"sk-toggleable__label sk-toggleable__label-arrow\">DecisionTreeRegressor</label><div class=\"sk-toggleable__content\"><pre>DecisionTreeRegressor()</pre></div></div></div></div></div>"
      ],
      "text/plain": [
       "DecisionTreeRegressor()"
      ]
     },
     "execution_count": 22,
     "metadata": {},
     "output_type": "execute_result"
    }
   ],
   "source": [
    "tree=DecisionTreeRegressor()\n",
    "tree.fit(xtrain,ytrain)"
   ]
  },
  {
   "cell_type": "code",
   "execution_count": 23,
   "id": "3f6382c9-4e75-46ea-9375-b7fcd61aece9",
   "metadata": {
    "tags": []
   },
   "outputs": [
    {
     "data": {
      "text/plain": [
       "array([ 20999.        ,   1617.5       ,  16499.        ,  17499.        ,\n",
       "        15999.        ,   6999.        ,  10499.        ,  11999.        ,\n",
       "         8999.        ,  25999.        ,  36990.        ,  27990.        ,\n",
       "        15499.        ,   9999.        ,  24990.        ,  16999.        ,\n",
       "        14999.        ,  36999.        ,  25999.        ,  32299.        ,\n",
       "        32499.        ,   7199.        ,  69999.        ,  13999.        ,\n",
       "         1865.        ,  11999.        ,  80999.        ,  50330.        ,\n",
       "        48990.        ,  27999.        ,   9499.        ,   3440.        ,\n",
       "        42999.        , 100999.        ,   5999.        ,  12999.        ,\n",
       "        17499.        ,  27990.        ,   6999.        ,  13999.        ,\n",
       "        71999.        ,  13499.        ,   8799.        ,  15499.        ,\n",
       "         8298.        ,  23999.        ,  13999.        ,   1899.        ,\n",
       "        14990.        ,  22800.        ,  13999.        ,  13999.        ,\n",
       "        32990.        ,  55899.        ,  13999.        ,  21999.        ,\n",
       "        15999.        ,  13499.        ,   8049.        ,  24999.        ,\n",
       "        49996.        ,   9290.        ,  23999.        ,  10999.        ,\n",
       "         6995.        ,  27990.        ,   6749.        ,   9999.        ,\n",
       "        27999.        ,  11999.        ,   5599.        ,  12700.        ,\n",
       "         9999.        , 127999.        ,  18490.        ,  15894.5       ,\n",
       "        11499.        ,  36990.        ,   5359.        ,  40999.        ,\n",
       "         9999.        ,  94999.        ,  16999.        ,  17999.        ,\n",
       "        43990.        ,   6499.        ,  27899.        ,   9999.        ,\n",
       "        14999.        ,   9999.        ,  11249.        ,   1399.        ,\n",
       "         9990.        ,  20999.        ,  19000.        ,  37990.        ,\n",
       "         9490.        ,  19999.        ,   8999.        ,  11999.        ,\n",
       "         9990.        ,  27999.        ,  21990.        ,  11499.        ,\n",
       "        35999.        ,  15999.        , 100999.        ,  13999.        ,\n",
       "        18999.        ,  21994.5       ,  11999.        ,  10857.        ,\n",
       "        15990.        ,  56999.        ,  15490.        ,  11499.        ,\n",
       "        34990.        ,  14999.        , 125999.        ,   7499.        ,\n",
       "        24999.        ,  13499.        ,  18999.        ,  13999.        ,\n",
       "        32499.        ,  14999.        ,   9999.        ,  32499.        ,\n",
       "         5599.        ,  21999.        ,  27999.        ,   2967.        ,\n",
       "        11990.        ,   4212.5       ,  15999.        ,   9999.        ,\n",
       "         6999.        ,  17999.        ,  17338.        ,  80999.        ,\n",
       "        40999.        ,  23999.        ,  26990.        ,  12999.        ,\n",
       "        16999.        ,   9849.        ,   1299.        ,  16799.        ,\n",
       "        14990.        ,  20999.        ,  27999.        ,   1449.        ,\n",
       "        13689.        ,  27990.        ,  12988.        ,  32499.        ,\n",
       "        61999.        ,  23999.        ,  10999.        ,  10499.        ,\n",
       "        10999.        ,  11999.        ,  24999.        ,   9090.        ,\n",
       "        11990.        ,  39979.5       ,  13990.        ,   1739.        ,\n",
       "        24990.        ,  14999.        ,  28500.        ,   1899.        ,\n",
       "        11999.        ,   8499.        ,  12499.        ,  24999.        ,\n",
       "         1599.        ,  59999.        ,  27990.        , 129999.        ,\n",
       "         9999.        ,   9999.        ,   6299.        ,   1299.        ,\n",
       "        16999.        ,   9999.        ,  29490.        ,  81999.        ,\n",
       "         7079.        ,  31270.        ,  10999.        ,  43999.        ,\n",
       "        54999.        ,   3850.        ,   6199.        ,  11999.        ,\n",
       "        20980.        ,   2149.        ,  34990.        ,   1299.        ,\n",
       "        46880.        ,  16999.        ,  17999.        ,  13799.        ,\n",
       "        10499.        ,  22999.        ,   1739.        ,  53999.        ,\n",
       "        18999.        ,  13499.        ,  49999.        ,  15499.        ,\n",
       "         8999.        ,   8999.        ,   2299.        ,  39990.        ,\n",
       "         8999.        ,   3250.        ,  10969.        ,  17999.        ,\n",
       "        11699.        ,   1299.        ,  14499.        ,  20999.        ,\n",
       "        39990.        , 125999.        ,  18999.        ,   8499.        ,\n",
       "        17999.        ,  13999.        ,  32999.        ,  11999.        ,\n",
       "        32299.        ,  14999.        ,   8999.        ,   1899.        ,\n",
       "         6999.        ,  16999.        ,  17499.        ,   7499.        ,\n",
       "         3850.        ,  15999.        ,   5899.        ,  32990.        ,\n",
       "        15899.        ,  14490.        ,   9249.        ,  49999.        ,\n",
       "        43999.        ,   1299.        ,  18499.        ,  10999.        ,\n",
       "        14999.        ,  26990.        ,  14999.        ,   6499.        ,\n",
       "        23999.        ,   7749.        ,  10999.        ,   6499.        ,\n",
       "        46999.        ,  80999.        ,   3799.        ,  13499.        ,\n",
       "        66999.        ,   5999.        ,  11999.        ,  46599.        ,\n",
       "         7079.        ,  29198.        ,  27899.        ,  24999.        ,\n",
       "        21499.        ,   1299.        ,   7499.        ,  40999.        ,\n",
       "        26999.        ,   9849.        ,  18999.        ,  84999.        ,\n",
       "         9499.        ,  13999.        ,  11099.        ,  10999.        ,\n",
       "        61999.        , 100999.        ,  11899.        ,   9499.        ,\n",
       "        18999.        ,   7999.        ,   1299.        ,  14499.        ,\n",
       "        10999.        ,   2399.        ,   5649.        ,  19999.        ,\n",
       "       134999.        ,  27990.        ,  17999.        ,  20999.        ,\n",
       "         9849.        ,  24999.        ,   5359.        ,  17999.        ,\n",
       "        40999.        ,   8999.        ,   6999.        , 124999.        ,\n",
       "        15990.        ,  21990.        ,  10999.        ,  13499.        ,\n",
       "         4397.66666667,  17999.        ,  35333.        ,   8590.        ,\n",
       "        11699.        ,  36999.        ,   7199.        ,   1299.        ,\n",
       "         2849.        ,  51490.        ,  21999.        ,  53999.        ,\n",
       "         6999.        ,   4199.        ,  19999.        ,  32999.        ,\n",
       "        16499.        ,   1599.        ,  41999.        ,  20999.        ,\n",
       "        10499.        ,  25990.        ,  12678.        ,  13689.        ,\n",
       "        36990.        ,  48990.        ,  14999.        ,  21949.        ,\n",
       "         2599.        ,   7999.        ,  15999.        ,  22000.        ,\n",
       "        10999.        ,  13399.        ,  24999.        ,   6999.        ,\n",
       "        19990.        ,   9990.        ,   1899.        ,   6049.        ,\n",
       "        14499.        , 110999.        ,  13999.        ,   2359.        ,\n",
       "        29999.        ,   8298.        ,  14499.        ,  32990.        ,\n",
       "         8999.        ,  16499.        ,  21999.        ,  12988.        ,\n",
       "        10990.        ,  13499.        ,  46990.        ,  40999.        ])"
      ]
     },
     "execution_count": 23,
     "metadata": {},
     "output_type": "execute_result"
    }
   ],
   "source": [
    "pred2=tree.predict(xtest)\n",
    "pred2"
   ]
  },
  {
   "cell_type": "code",
   "execution_count": 24,
   "id": "bd136a37-e8ce-4058-b90a-40f870fdde04",
   "metadata": {
    "tags": []
   },
   "outputs": [
    {
     "name": "stdout",
     "output_type": "stream",
     "text": [
      "MAE 1978.8808876811593\n",
      "MAPE 0.25507817154273466\n",
      "MSE 49764197.70840881\n",
      "R2 SCORE 0.8997785642198285\n"
     ]
    }
   ],
   "source": [
    "print(\"MAE\",mean_absolute_error(ytest,pred2))\n",
    "print(\"MAPE\",mean_absolute_percentage_error(ytest,pred2))\n",
    "print(\"MSE\",mean_squared_error(ytest,pred2))\n",
    "print(\"R2 SCORE\",r2_score(ytest,pred2))"
   ]
  },
  {
   "cell_type": "code",
   "execution_count": 25,
   "id": "7bf823c6-dbbd-4ade-8b18-e6d2f306eafa",
   "metadata": {
    "tags": []
   },
   "outputs": [
    {
     "data": {
      "text/html": [
       "<div>\n",
       "<style scoped>\n",
       "    .dataframe tbody tr th:only-of-type {\n",
       "        vertical-align: middle;\n",
       "    }\n",
       "\n",
       "    .dataframe tbody tr th {\n",
       "        vertical-align: top;\n",
       "    }\n",
       "\n",
       "    .dataframe thead th {\n",
       "        text-align: right;\n",
       "    }\n",
       "</style>\n",
       "<table border=\"1\" class=\"dataframe\">\n",
       "  <thead>\n",
       "    <tr style=\"text-align: right;\">\n",
       "      <th></th>\n",
       "      <th>Actual price</th>\n",
       "      <th>Predicted price</th>\n",
       "    </tr>\n",
       "  </thead>\n",
       "  <tbody>\n",
       "    <tr>\n",
       "      <th>556</th>\n",
       "      <td>20999</td>\n",
       "      <td>20999.0</td>\n",
       "    </tr>\n",
       "    <tr>\n",
       "      <th>1386</th>\n",
       "      <td>1250</td>\n",
       "      <td>1617.5</td>\n",
       "    </tr>\n",
       "    <tr>\n",
       "      <th>1450</th>\n",
       "      <td>16499</td>\n",
       "      <td>16499.0</td>\n",
       "    </tr>\n",
       "    <tr>\n",
       "      <th>111</th>\n",
       "      <td>14999</td>\n",
       "      <td>17499.0</td>\n",
       "    </tr>\n",
       "    <tr>\n",
       "      <th>1787</th>\n",
       "      <td>15999</td>\n",
       "      <td>15999.0</td>\n",
       "    </tr>\n",
       "    <tr>\n",
       "      <th>...</th>\n",
       "      <td>...</td>\n",
       "      <td>...</td>\n",
       "    </tr>\n",
       "    <tr>\n",
       "      <th>790</th>\n",
       "      <td>13999</td>\n",
       "      <td>12988.0</td>\n",
       "    </tr>\n",
       "    <tr>\n",
       "      <th>846</th>\n",
       "      <td>10990</td>\n",
       "      <td>10990.0</td>\n",
       "    </tr>\n",
       "    <tr>\n",
       "      <th>654</th>\n",
       "      <td>13499</td>\n",
       "      <td>13499.0</td>\n",
       "    </tr>\n",
       "    <tr>\n",
       "      <th>1084</th>\n",
       "      <td>36600</td>\n",
       "      <td>46990.0</td>\n",
       "    </tr>\n",
       "    <tr>\n",
       "      <th>1574</th>\n",
       "      <td>36990</td>\n",
       "      <td>40999.0</td>\n",
       "    </tr>\n",
       "  </tbody>\n",
       "</table>\n",
       "<p>368 rows × 2 columns</p>\n",
       "</div>"
      ],
      "text/plain": [
       "      Actual price  Predicted price\n",
       "556          20999          20999.0\n",
       "1386          1250           1617.5\n",
       "1450         16499          16499.0\n",
       "111          14999          17499.0\n",
       "1787         15999          15999.0\n",
       "...            ...              ...\n",
       "790          13999          12988.0\n",
       "846          10990          10990.0\n",
       "654          13499          13499.0\n",
       "1084         36600          46990.0\n",
       "1574         36990          40999.0\n",
       "\n",
       "[368 rows x 2 columns]"
      ]
     },
     "execution_count": 25,
     "metadata": {},
     "output_type": "execute_result"
    }
   ],
   "source": [
    "outcome= { \n",
    "    \"Actual price\":ytest,\n",
    "    \"Predicted price\":pred2\n",
    "\n",
    "}\n",
    "df3=pd.DataFrame(outcome)\n",
    "df3"
   ]
  },
  {
   "cell_type": "code",
   "execution_count": 26,
   "id": "c321e30b-f9a9-400f-b575-64d947554291",
   "metadata": {
    "tags": []
   },
   "outputs": [
    {
     "data": {
      "text/html": [
       "<style>#sk-container-id-3 {color: black;}#sk-container-id-3 pre{padding: 0;}#sk-container-id-3 div.sk-toggleable {background-color: white;}#sk-container-id-3 label.sk-toggleable__label {cursor: pointer;display: block;width: 100%;margin-bottom: 0;padding: 0.3em;box-sizing: border-box;text-align: center;}#sk-container-id-3 label.sk-toggleable__label-arrow:before {content: \"▸\";float: left;margin-right: 0.25em;color: #696969;}#sk-container-id-3 label.sk-toggleable__label-arrow:hover:before {color: black;}#sk-container-id-3 div.sk-estimator:hover label.sk-toggleable__label-arrow:before {color: black;}#sk-container-id-3 div.sk-toggleable__content {max-height: 0;max-width: 0;overflow: hidden;text-align: left;background-color: #f0f8ff;}#sk-container-id-3 div.sk-toggleable__content pre {margin: 0.2em;color: black;border-radius: 0.25em;background-color: #f0f8ff;}#sk-container-id-3 input.sk-toggleable__control:checked~div.sk-toggleable__content {max-height: 200px;max-width: 100%;overflow: auto;}#sk-container-id-3 input.sk-toggleable__control:checked~label.sk-toggleable__label-arrow:before {content: \"▾\";}#sk-container-id-3 div.sk-estimator input.sk-toggleable__control:checked~label.sk-toggleable__label {background-color: #d4ebff;}#sk-container-id-3 div.sk-label input.sk-toggleable__control:checked~label.sk-toggleable__label {background-color: #d4ebff;}#sk-container-id-3 input.sk-hidden--visually {border: 0;clip: rect(1px 1px 1px 1px);clip: rect(1px, 1px, 1px, 1px);height: 1px;margin: -1px;overflow: hidden;padding: 0;position: absolute;width: 1px;}#sk-container-id-3 div.sk-estimator {font-family: monospace;background-color: #f0f8ff;border: 1px dotted black;border-radius: 0.25em;box-sizing: border-box;margin-bottom: 0.5em;}#sk-container-id-3 div.sk-estimator:hover {background-color: #d4ebff;}#sk-container-id-3 div.sk-parallel-item::after {content: \"\";width: 100%;border-bottom: 1px solid gray;flex-grow: 1;}#sk-container-id-3 div.sk-label:hover label.sk-toggleable__label {background-color: #d4ebff;}#sk-container-id-3 div.sk-serial::before {content: \"\";position: absolute;border-left: 1px solid gray;box-sizing: border-box;top: 0;bottom: 0;left: 50%;z-index: 0;}#sk-container-id-3 div.sk-serial {display: flex;flex-direction: column;align-items: center;background-color: white;padding-right: 0.2em;padding-left: 0.2em;position: relative;}#sk-container-id-3 div.sk-item {position: relative;z-index: 1;}#sk-container-id-3 div.sk-parallel {display: flex;align-items: stretch;justify-content: center;background-color: white;position: relative;}#sk-container-id-3 div.sk-item::before, #sk-container-id-3 div.sk-parallel-item::before {content: \"\";position: absolute;border-left: 1px solid gray;box-sizing: border-box;top: 0;bottom: 0;left: 50%;z-index: -1;}#sk-container-id-3 div.sk-parallel-item {display: flex;flex-direction: column;z-index: 1;position: relative;background-color: white;}#sk-container-id-3 div.sk-parallel-item:first-child::after {align-self: flex-end;width: 50%;}#sk-container-id-3 div.sk-parallel-item:last-child::after {align-self: flex-start;width: 50%;}#sk-container-id-3 div.sk-parallel-item:only-child::after {width: 0;}#sk-container-id-3 div.sk-dashed-wrapped {border: 1px dashed gray;margin: 0 0.4em 0.5em 0.4em;box-sizing: border-box;padding-bottom: 0.4em;background-color: white;}#sk-container-id-3 div.sk-label label {font-family: monospace;font-weight: bold;display: inline-block;line-height: 1.2em;}#sk-container-id-3 div.sk-label-container {text-align: center;}#sk-container-id-3 div.sk-container {/* jupyter's `normalize.less` sets `[hidden] { display: none; }` but bootstrap.min.css set `[hidden] { display: none !important; }` so we also need the `!important` here to be able to override the default hidden behavior on the sphinx rendered scikit-learn.org. See: https://github.com/scikit-learn/scikit-learn/issues/21755 */display: inline-block !important;position: relative;}#sk-container-id-3 div.sk-text-repr-fallback {display: none;}</style><div id=\"sk-container-id-3\" class=\"sk-top-container\"><div class=\"sk-text-repr-fallback\"><pre>RandomForestRegressor()</pre><b>In a Jupyter environment, please rerun this cell to show the HTML representation or trust the notebook. <br />On GitHub, the HTML representation is unable to render, please try loading this page with nbviewer.org.</b></div><div class=\"sk-container\" hidden><div class=\"sk-item\"><div class=\"sk-estimator sk-toggleable\"><input class=\"sk-toggleable__control sk-hidden--visually\" id=\"sk-estimator-id-5\" type=\"checkbox\" checked><label for=\"sk-estimator-id-5\" class=\"sk-toggleable__label sk-toggleable__label-arrow\">RandomForestRegressor</label><div class=\"sk-toggleable__content\"><pre>RandomForestRegressor()</pre></div></div></div></div></div>"
      ],
      "text/plain": [
       "RandomForestRegressor()"
      ]
     },
     "execution_count": 26,
     "metadata": {},
     "output_type": "execute_result"
    }
   ],
   "source": [
    "forest=RandomForestRegressor()\n",
    "forest.fit(xtrain,ytrain)"
   ]
  },
  {
   "cell_type": "code",
   "execution_count": 27,
   "id": "56c5969c-b69f-438d-8a65-8767e9f2bd77",
   "metadata": {
    "tags": []
   },
   "outputs": [
    {
     "data": {
      "text/plain": [
       "array([ 22125.41      ,   2037.83055556,  17483.82      ,  15809.83      ,\n",
       "        16526.94      ,   7182.82      ,  10292.09      ,  12025.33      ,\n",
       "         8904.93      ,  27705.05      ,  53641.956     ,  29279.66      ,\n",
       "        15193.91      ,  10473.71      ,  29925.55      ,  16753.82      ,\n",
       "        14490.04      ,  43497.12      ,  25806.28      ,  36006.63      ,\n",
       "        28635.73333333,   7048.72      ,  70319.        ,  14023.92      ,\n",
       "         1873.95686508,  10174.63      ,  80819.        ,  42832.77      ,\n",
       "        43917.565     ,  27054.76666667,   9396.24      ,  14579.145     ,\n",
       "        30609.68      , 101979.        ,   6680.33      ,  13207.91      ,\n",
       "        19043.3       ,  28748.54      ,  19035.        ,  13913.91      ,\n",
       "        72626.        ,  13742.28      ,   9795.3       ,  15189.        ,\n",
       "        10661.98      ,  27402.29      ,  12485.36      ,   2031.325     ,\n",
       "        15275.48      ,  22902.03      ,  14268.37      ,  13837.91      ,\n",
       "        31257.475     ,  42856.35      ,  13783.71      ,  21331.74      ,\n",
       "        16159.95      ,  13704.325     ,   9106.3       ,  24439.        ,\n",
       "        49380.87      ,  10531.        ,  25003.97      ,  10841.93      ,\n",
       "         7120.42      ,  30576.71      ,   6714.44      ,   9935.91      ,\n",
       "        27054.76666667,  13339.73      ,   8826.62      ,  13102.3       ,\n",
       "         9885.15      , 128458.01      ,  18202.16      ,  15832.0625    ,\n",
       "        11996.09566667,  53641.956     ,   8318.04666667,  44560.4225    ,\n",
       "        10725.35      ,  90821.        ,  16477.97      ,  17364.76      ,\n",
       "        41362.3       ,   8779.56      ,  29790.243     ,   9893.27      ,\n",
       "        16897.01      ,  10430.75      ,  12749.13      ,   2020.71933333,\n",
       "        10620.82      ,  20292.71      ,  17833.        ,  36994.30666667,\n",
       "         9943.59      ,  20363.91      ,   9966.27      ,  11949.96      ,\n",
       "         9553.02      ,  26044.58      ,  22757.23      ,  17048.43      ,\n",
       "        35353.75      ,  14831.87      , 100569.        ,  13730.34      ,\n",
       "        19862.95      ,  19300.73      ,  12144.98      ,  11190.43      ,\n",
       "        15104.12      ,  53619.        ,  15130.89      ,  17048.43      ,\n",
       "        33304.11      ,  15148.91      , 128768.08      ,   7450.72      ,\n",
       "        24245.2325    ,  13309.97      ,  19436.3       ,  14147.62      ,\n",
       "        28635.73333333,  15729.        ,   9650.82      ,  28635.73333333,\n",
       "        14019.78      ,  20918.34      ,  27451.915     ,   4491.53      ,\n",
       "        10647.24      ,   4220.42166667,  16531.94      ,  10610.53      ,\n",
       "         7302.63      ,  16483.64      ,  23385.585     ,  80639.        ,\n",
       "        47472.01      ,  25467.395     ,  36556.31      ,  17334.18      ,\n",
       "        15812.21      ,   9248.7       ,   2377.18      ,  11122.57      ,\n",
       "        16114.245     ,  21799.        ,  29731.94      ,   2693.4375    ,\n",
       "        17446.15      ,  27996.46      ,  11661.89      ,  32149.91066667,\n",
       "        65137.02      ,  25913.575     ,  10959.58      ,  10292.09      ,\n",
       "        11009.        ,  11279.39      ,  25248.73      ,   9569.78      ,\n",
       "        11894.10666667,  38084.84671429,  14981.35      ,   2314.48833333,\n",
       "        27257.11      ,  14686.82      ,  29318.48      ,   2211.61133333,\n",
       "        10174.63      ,   9262.05      ,  11867.34      ,  24038.74      ,\n",
       "         1634.1975    ,  57262.92      ,  30301.215     , 129398.01      ,\n",
       "         9953.91      ,   9926.02      ,   6426.68666667,   2374.18      ,\n",
       "        15491.        ,  10108.91      ,  31121.05      ,  78039.        ,\n",
       "         7375.4       ,  30551.54833333,  11791.87      ,  31921.9       ,\n",
       "        54488.82      ,   6107.5077381 ,   6216.5       ,  11986.5       ,\n",
       "        19665.46      ,   2121.6375    ,  39970.84      ,   2466.75      ,\n",
       "        46060.97      ,  20457.82      ,  17109.7       ,  13358.96      ,\n",
       "        10965.94      ,  22750.91      ,   2314.48833333,  53849.        ,\n",
       "        20899.71      ,  17055.87333333,  48343.1125    ,  17564.365     ,\n",
       "         9019.        ,   9497.14      ,   3260.94166667,  34101.39      ,\n",
       "         9074.        ,   3501.095     ,  11524.86      ,  17212.57      ,\n",
       "        11187.86      ,   2374.18      ,  14720.04      ,  21554.81      ,\n",
       "        47056.757     , 130223.23      ,  20278.87      ,   8589.        ,\n",
       "        19263.91      ,  13277.83      ,  27019.49      ,  13086.14      ,\n",
       "        36006.63      ,  16458.82      ,   9720.15      ,   2183.30333333,\n",
       "         7402.86      ,  15812.21      ,  19043.3       ,   8986.91      ,\n",
       "         6468.22607143,  15713.73      ,   5712.93047619,  33716.89      ,\n",
       "        18673.225     ,  14647.51      ,  10162.97      ,  55993.41      ,\n",
       "        41059.82      ,   3157.44      ,  17609.82      ,  10741.16      ,\n",
       "        14810.82      ,  40018.4215    ,  15148.91      ,  13768.49666667,\n",
       "        27152.25      ,   7851.5       ,  10885.74      ,   9379.34      ,\n",
       "        47592.01      ,  81189.        ,   8412.87      ,  13309.97      ,\n",
       "        62979.        ,   6064.        ,  12223.82      ,  45375.        ,\n",
       "         9716.78      ,  33033.18166667,  26665.4245    ,  24980.28      ,\n",
       "        21964.29      ,   1831.56      ,   7589.        ,  40958.22      ,\n",
       "        25175.49      ,   9243.42      ,  19429.        ,  82915.        ,\n",
       "         9858.89      ,  13277.83      ,  11245.92      ,  12178.91      ,\n",
       "        62499.        , 100579.        ,  10898.76      ,   9659.89      ,\n",
       "        19892.32      ,   8975.23      ,   2374.18      ,  14711.48      ,\n",
       "        10331.94      ,   4294.63      ,   5949.34      ,  23184.50642857,\n",
       "       113985.04333333,  28753.49      ,  17823.82      ,  20268.91      ,\n",
       "         9243.66      ,  24336.89      ,   6586.59333333,  19329.        ,\n",
       "        47472.01      ,   9966.27      ,  19035.        , 114370.        ,\n",
       "        15399.01      ,  21650.84      ,  10462.33      ,  15543.41      ,\n",
       "         4294.227     ,  18310.6       ,  29942.67114286,   8021.57      ,\n",
       "        12361.02      ,  36628.09      ,   8896.72      ,   2890.645     ,\n",
       "        20281.28      ,  60489.9       ,  20918.34      ,  54209.        ,\n",
       "         7153.4       ,   6383.18916667,  19688.64      ,  33868.23      ,\n",
       "        16541.78      ,   1595.77625   ,  45612.84      ,  25320.4325    ,\n",
       "        10378.3       ,  28776.887     ,  12771.27      ,  17446.15      ,\n",
       "        31393.43      ,  44197.565     ,  15348.78      ,  19294.92      ,\n",
       "         2377.80959524,   7338.42      ,  16528.01      ,  22140.345     ,\n",
       "        10721.16      ,  17614.94333333,  24463.82      ,   6986.        ,\n",
       "        22867.13      ,   9995.09      ,   2031.325     ,   6071.5       ,\n",
       "        15445.8       ,  79735.56      ,  14029.        ,   2577.13615079,\n",
       "        29575.        ,  10752.98      ,  16317.91      ,  31302.465     ,\n",
       "         9840.66      ,  17279.33      ,  23572.765     ,  11661.89      ,\n",
       "        11085.39      ,  13670.45      ,  45918.4       ,  40934.69666667])"
      ]
     },
     "execution_count": 27,
     "metadata": {},
     "output_type": "execute_result"
    }
   ],
   "source": [
    "pred4=forest.predict(xtest)\n",
    "pred4"
   ]
  },
  {
   "cell_type": "code",
   "execution_count": 28,
   "id": "33cffc10-36fc-4bba-a4b4-71bf7eab1adb",
   "metadata": {
    "tags": []
   },
   "outputs": [
    {
     "name": "stdout",
     "output_type": "stream",
     "text": [
      "MAE 2459.5538363418736\n",
      "MAPE 0.28210776269329946\n",
      "MSE 34364645.44047956\n",
      "R2 SCORE 0.9307921303925808\n"
     ]
    }
   ],
   "source": [
    "print(\"MAE\",mean_absolute_error(ytest,pred4))\n",
    "print(\"MAPE\",mean_absolute_percentage_error(ytest,pred4))\n",
    "print(\"MSE\",mean_squared_error(ytest,pred4))\n",
    "print(\"R2 SCORE\",r2_score(ytest,pred4))"
   ]
  },
  {
   "cell_type": "code",
   "execution_count": 29,
   "id": "95b1af96-cf4f-4d00-9ec0-d2e5715bdac3",
   "metadata": {
    "tags": []
   },
   "outputs": [
    {
     "data": {
      "text/html": [
       "<div>\n",
       "<style scoped>\n",
       "    .dataframe tbody tr th:only-of-type {\n",
       "        vertical-align: middle;\n",
       "    }\n",
       "\n",
       "    .dataframe tbody tr th {\n",
       "        vertical-align: top;\n",
       "    }\n",
       "\n",
       "    .dataframe thead th {\n",
       "        text-align: right;\n",
       "    }\n",
       "</style>\n",
       "<table border=\"1\" class=\"dataframe\">\n",
       "  <thead>\n",
       "    <tr style=\"text-align: right;\">\n",
       "      <th></th>\n",
       "      <th>Actual price</th>\n",
       "      <th>Predicted price</th>\n",
       "    </tr>\n",
       "  </thead>\n",
       "  <tbody>\n",
       "    <tr>\n",
       "      <th>556</th>\n",
       "      <td>20999</td>\n",
       "      <td>22125.410000</td>\n",
       "    </tr>\n",
       "    <tr>\n",
       "      <th>1386</th>\n",
       "      <td>1250</td>\n",
       "      <td>2037.830556</td>\n",
       "    </tr>\n",
       "    <tr>\n",
       "      <th>1450</th>\n",
       "      <td>16499</td>\n",
       "      <td>17483.820000</td>\n",
       "    </tr>\n",
       "    <tr>\n",
       "      <th>111</th>\n",
       "      <td>14999</td>\n",
       "      <td>15809.830000</td>\n",
       "    </tr>\n",
       "    <tr>\n",
       "      <th>1787</th>\n",
       "      <td>15999</td>\n",
       "      <td>16526.940000</td>\n",
       "    </tr>\n",
       "    <tr>\n",
       "      <th>...</th>\n",
       "      <td>...</td>\n",
       "      <td>...</td>\n",
       "    </tr>\n",
       "    <tr>\n",
       "      <th>790</th>\n",
       "      <td>13999</td>\n",
       "      <td>11661.890000</td>\n",
       "    </tr>\n",
       "    <tr>\n",
       "      <th>846</th>\n",
       "      <td>10990</td>\n",
       "      <td>11085.390000</td>\n",
       "    </tr>\n",
       "    <tr>\n",
       "      <th>654</th>\n",
       "      <td>13499</td>\n",
       "      <td>13670.450000</td>\n",
       "    </tr>\n",
       "    <tr>\n",
       "      <th>1084</th>\n",
       "      <td>36600</td>\n",
       "      <td>45918.400000</td>\n",
       "    </tr>\n",
       "    <tr>\n",
       "      <th>1574</th>\n",
       "      <td>36990</td>\n",
       "      <td>40934.696667</td>\n",
       "    </tr>\n",
       "  </tbody>\n",
       "</table>\n",
       "<p>368 rows × 2 columns</p>\n",
       "</div>"
      ],
      "text/plain": [
       "      Actual price  Predicted price\n",
       "556          20999     22125.410000\n",
       "1386          1250      2037.830556\n",
       "1450         16499     17483.820000\n",
       "111          14999     15809.830000\n",
       "1787         15999     16526.940000\n",
       "...            ...              ...\n",
       "790          13999     11661.890000\n",
       "846          10990     11085.390000\n",
       "654          13499     13670.450000\n",
       "1084         36600     45918.400000\n",
       "1574         36990     40934.696667\n",
       "\n",
       "[368 rows x 2 columns]"
      ]
     },
     "execution_count": 29,
     "metadata": {},
     "output_type": "execute_result"
    }
   ],
   "source": [
    "outcome= { \n",
    "    \"Actual price\":ytest,\n",
    "    \"Predicted price\":pred4\n",
    "\n",
    "}\n",
    "df3=pd.DataFrame(outcome)\n",
    "df3"
   ]
  },
  {
   "cell_type": "code",
   "execution_count": 30,
   "id": "e84e5701-2fc1-498e-8059-9252654cae6f",
   "metadata": {
    "tags": []
   },
   "outputs": [
    {
     "data": {
      "text/plain": [
       "<Axes: xlabel='Price in INR'>"
      ]
     },
     "execution_count": 30,
     "metadata": {},
     "output_type": "execute_result"
    },
    {
     "data": {
      "image/png": "[encoded data removed]",
      "text/plain": [
       "<Figure size 640x480 with 1 Axes>"
      ]
     },
     "metadata": {},
     "output_type": "display_data"
    }
   ],
   "source": [
    "sns.regplot(x= ytest,y=pred1)"
   ]
  },
  {
   "cell_type": "code",
   "execution_count": 31,
   "id": "39202c7c-333f-4d2d-b0aa-d0fbf498be49",
   "metadata": {
    "tags": []
   },
   "outputs": [
    {
     "data": {
      "text/plain": [
       "<Axes: xlabel='Price in INR'>"
      ]
     },
     "execution_count": 31,
     "metadata": {},
     "output_type": "execute_result"
    },
    {
     "data": {
      "image/png": "[encoded data removed]",
      "text/plain": [
       "<Figure size 640x480 with 1 Axes>"
      ]
     },
     "metadata": {},
     "output_type": "display_data"
    }
   ],
   "source": [
    "sns.regplot(x= ytest,y=pred2)"
   ]
  },
  {
   "cell_type": "code",
   "execution_count": 32,
   "id": "0914ff4b-a3b9-4131-8e37-0a5562c6f17b",
   "metadata": {
    "tags": []
   },
   "outputs": [
    {
     "data": {
      "text/plain": [
       "<Axes: xlabel='Price in INR'>"
      ]
     },
     "execution_count": 32,
     "metadata": {},
     "output_type": "execute_result"
    },
    {
     "data": {
      "image/png": "[encoded data removed]",
      "text/plain": [
       "<Figure size 640x480 with 1 Axes>"
      ]
     },
     "metadata": {},
     "output_type": "display_data"
    }
   ],
   "source": [
    "sns.regplot(x= ytest,y=pred4)"
   ]
  },
  {
   "cell_type": "code",
   "execution_count": 33,
   "id": "0129c4f7-f060-4148-8b24-390bcd0981c5",
   "metadata": {},
   "outputs": [
    {
     "name": "stderr",
     "output_type": "stream",
     "text": [
      "C:\\Users\\USER\\anaconda3\\Lib\\site-packages\\sklearn\\neural_network\\_multilayer_perceptron.py:691: ConvergenceWarning: Stochastic Optimizer: Maximum iterations (200) reached and the optimization hasn't converged yet.\n",
      "  warnings.warn(\n"
     ]
    },
    {
     "data": {
      "text/html": [
       "<style>#sk-container-id-4 {color: black;}#sk-container-id-4 pre{padding: 0;}#sk-container-id-4 div.sk-toggleable {background-color: white;}#sk-container-id-4 label.sk-toggleable__label {cursor: pointer;display: block;width: 100%;margin-bottom: 0;padding: 0.3em;box-sizing: border-box;text-align: center;}#sk-container-id-4 label.sk-toggleable__label-arrow:before {content: \"▸\";float: left;margin-right: 0.25em;color: #696969;}#sk-container-id-4 label.sk-toggleable__label-arrow:hover:before {color: black;}#sk-container-id-4 div.sk-estimator:hover label.sk-toggleable__label-arrow:before {color: black;}#sk-container-id-4 div.sk-toggleable__content {max-height: 0;max-width: 0;overflow: hidden;text-align: left;background-color: #f0f8ff;}#sk-container-id-4 div.sk-toggleable__content pre {margin: 0.2em;color: black;border-radius: 0.25em;background-color: #f0f8ff;}#sk-container-id-4 input.sk-toggleable__control:checked~div.sk-toggleable__content {max-height: 200px;max-width: 100%;overflow: auto;}#sk-container-id-4 input.sk-toggleable__control:checked~label.sk-toggleable__label-arrow:before {content: \"▾\";}#sk-container-id-4 div.sk-estimator input.sk-toggleable__control:checked~label.sk-toggleable__label {background-color: #d4ebff;}#sk-container-id-4 div.sk-label input.sk-toggleable__control:checked~label.sk-toggleable__label {background-color: #d4ebff;}#sk-container-id-4 input.sk-hidden--visually {border: 0;clip: rect(1px 1px 1px 1px);clip: rect(1px, 1px, 1px, 1px);height: 1px;margin: -1px;overflow: hidden;padding: 0;position: absolute;width: 1px;}#sk-container-id-4 div.sk-estimator {font-family: monospace;background-color: #f0f8ff;border: 1px dotted black;border-radius: 0.25em;box-sizing: border-box;margin-bottom: 0.5em;}#sk-container-id-4 div.sk-estimator:hover {background-color: #d4ebff;}#sk-container-id-4 div.sk-parallel-item::after {content: \"\";width: 100%;border-bottom: 1px solid gray;flex-grow: 1;}#sk-container-id-4 div.sk-label:hover label.sk-toggleable__label {background-color: #d4ebff;}#sk-container-id-4 div.sk-serial::before {content: \"\";position: absolute;border-left: 1px solid gray;box-sizing: border-box;top: 0;bottom: 0;left: 50%;z-index: 0;}#sk-container-id-4 div.sk-serial {display: flex;flex-direction: column;align-items: center;background-color: white;padding-right: 0.2em;padding-left: 0.2em;position: relative;}#sk-container-id-4 div.sk-item {position: relative;z-index: 1;}#sk-container-id-4 div.sk-parallel {display: flex;align-items: stretch;justify-content: center;background-color: white;position: relative;}#sk-container-id-4 div.sk-item::before, #sk-container-id-4 div.sk-parallel-item::before {content: \"\";position: absolute;border-left: 1px solid gray;box-sizing: border-box;top: 0;bottom: 0;left: 50%;z-index: -1;}#sk-container-id-4 div.sk-parallel-item {display: flex;flex-direction: column;z-index: 1;position: relative;background-color: white;}#sk-container-id-4 div.sk-parallel-item:first-child::after {align-self: flex-end;width: 50%;}#sk-container-id-4 div.sk-parallel-item:last-child::after {align-self: flex-start;width: 50%;}#sk-container-id-4 div.sk-parallel-item:only-child::after {width: 0;}#sk-container-id-4 div.sk-dashed-wrapped {border: 1px dashed gray;margin: 0 0.4em 0.5em 0.4em;box-sizing: border-box;padding-bottom: 0.4em;background-color: white;}#sk-container-id-4 div.sk-label label {font-family: monospace;font-weight: bold;display: inline-block;line-height: 1.2em;}#sk-container-id-4 div.sk-label-container {text-align: center;}#sk-container-id-4 div.sk-container {/* jupyter's `normalize.less` sets `[hidden] { display: none; }` but bootstrap.min.css set `[hidden] { display: none !important; }` so we also need the `!important` here to be able to override the default hidden behavior on the sphinx rendered scikit-learn.org. See: https://github.com/scikit-learn/scikit-learn/issues/21755 */display: inline-block !important;position: relative;}#sk-container-id-4 div.sk-text-repr-fallback {display: none;}</style><div id=\"sk-container-id-4\" class=\"sk-top-container\"><div class=\"sk-text-repr-fallback\"><pre>MLPRegressor()</pre><b>In a Jupyter environment, please rerun this cell to show the HTML representation or trust the notebook. <br />On GitHub, the HTML representation is unable to render, please try loading this page with nbviewer.org.</b></div><div class=\"sk-container\" hidden><div class=\"sk-item\"><div class=\"sk-estimator sk-toggleable\"><input class=\"sk-toggleable__control sk-hidden--visually\" id=\"sk-estimator-id-6\" type=\"checkbox\" checked><label for=\"sk-estimator-id-6\" class=\"sk-toggleable__label sk-toggleable__label-arrow\">MLPRegressor</label><div class=\"sk-toggleable__content\"><pre>MLPRegressor()</pre></div></div></div></div></div>"
      ],
      "text/plain": [
       "MLPRegressor()"
      ]
     },
     "execution_count": 33,
     "metadata": {},
     "output_type": "execute_result"
    }
   ],
   "source": [
    "ml=MLPRegressor()\n",
    "ml.fit(xtrain,ytrain)"
   ]
  },
  {
   "cell_type": "code",
   "execution_count": 34,
   "id": "283318c9-b59c-42df-8226-633035a3dc51",
   "metadata": {
    "tags": []
   },
   "outputs": [
    {
     "data": {
      "text/plain": [
       "array([31676.88273106, 19704.07977665, 19766.85062148, 14477.17460468,\n",
       "       16254.80059035, 13629.62577495, 23599.06616881, 15258.34516573,\n",
       "       14889.23742866, 14186.93340352, 22553.33407526, 15143.41038016,\n",
       "       22774.59449838, 10892.18351727, 26746.65529973, 16439.71230687,\n",
       "       23558.84137592, 12794.55257825, 21552.3107482 , 32944.60630094,\n",
       "       28275.47535742, 29613.26138884,  5608.54638569, 15659.06268042,\n",
       "        7682.69321032, 11087.99169572,  5870.21135983, 26971.73636538,\n",
       "       27045.2081492 , 16591.448345  ,  9648.97991494, 14252.08545221,\n",
       "       19749.9718413 ,  6193.35652613, 12076.35781242, 18724.53137747,\n",
       "       21888.83673126, 24580.21629363,  9442.18832023, 15658.01033721,\n",
       "       10799.09449562, 17288.60823579, 18893.00147781, 22782.02297758,\n",
       "       27099.82127471, 15961.40351595, 21724.33631269, 23156.27494603,\n",
       "       23684.00221289, 31912.88392285, 16452.41709437, 26175.52787749,\n",
       "       22041.63132401, 32125.881762  , 26391.4868505 , 19829.32566126,\n",
       "       23562.29381958, 20713.50158299, 17567.26988638, 14641.18436958,\n",
       "       32606.20997497, 20207.61087129, 29228.754632  , 11840.05708479,\n",
       "       10393.83197659, 26397.42878256,  7421.76781331, 17348.87644218,\n",
       "       16603.77182157, 19141.19852261,  5864.33694404, 26171.76117844,\n",
       "       14627.12068609, 12999.99018811, 26597.70318543, 19781.56866182,\n",
       "       24588.95556786, 22545.57053422, 23763.41470676, 16680.51105931,\n",
       "        9457.34755314, 31276.9289524 , 15172.99446106,  9672.3390911 ,\n",
       "       23074.24007236, 34317.5643804 , 21167.44028588,  9899.59446713,\n",
       "       10625.71453617, 24907.29805869, 19531.26193826,  6729.56685597,\n",
       "       31608.33289859, 25537.59963565, 25415.83867791, 29608.52059513,\n",
       "       24895.91331341, 18217.81153824, 10761.67503728, 13910.62826558,\n",
       "       12633.81224648, 23229.96377253, 16996.19018153, 11549.58263425,\n",
       "       21960.37682368, 25543.07783469,  6197.56589895, 20697.68202083,\n",
       "       23798.35407653, 10086.67068093, 32561.93458129, 23035.4631001 ,\n",
       "       18048.85908614,  8622.17960523, 29794.38657124, 11549.58263425,\n",
       "       28643.47737535, 14627.03104558, 12555.99382663, 14896.81944683,\n",
       "       22170.17845927, 16012.73932654, 12933.06709299, 15271.61169427,\n",
       "       28303.78586606, 11296.04699854, 13174.76916001, 28289.63061174,\n",
       "       11114.82325382, 19993.8784415 , 31213.50944915, 20580.71666165,\n",
       "       12719.15112734,  7433.14604824, 16261.4545764 , 25289.47602429,\n",
       "       16057.70686564, 12823.10640056, 21307.89239928,  5872.84221784,\n",
       "        9626.77329784, 23136.76328342, 25408.47347693, 28099.26512354,\n",
       "       24453.15958822, 14241.14105395,  8052.21835775, 19694.89437045,\n",
       "       10064.44288088, 16614.37956225, 28013.65618375, 19682.44913017,\n",
       "       11932.33355654, 20543.33578375, 18813.66711156, 26466.78018648,\n",
       "       10226.95379338, 31254.05616257, 11430.73125413, 23591.30262777,\n",
       "       17921.77851943, 10618.37737964, 18503.98434506, 11797.75511707,\n",
       "        9242.31364507, 22112.82072257, 10963.93888478, 11338.41300192,\n",
       "       29067.4147219 , 17201.80772299, 18850.09771644, 15663.23484724,\n",
       "       11086.93935252, 14249.07731632, 26408.67347367, 24675.27042027,\n",
       "       20489.02281058, 28078.72357198, 19207.10260461, 13567.99900455,\n",
       "       16811.5556987 , 18108.83930984, 23019.26699305,  8979.87488597,\n",
       "       14456.75582109, 11997.39504204, 30424.42830188, 10037.61695514,\n",
       "       15576.02446008, 20277.67023456, 21575.98432717, 26093.28122217,\n",
       "       30296.76702836,  8548.08509971, 26584.14809222, 13604.12118466,\n",
       "       19521.66026694,  9341.78894268, 17689.60406755,  8734.40153237,\n",
       "       34274.55755405, 24916.44341612,  9671.8129195 , 24202.43949732,\n",
       "       26480.97277477, 14004.85701001, 11338.41300192,  9660.65981256,\n",
       "       15679.34863508, 20701.35112344, 22320.29442489, 25722.4849007 ,\n",
       "       13026.83871505, 12721.09593686, 10970.7585202 , 20833.18278559,\n",
       "       15905.72130171,  5869.52607744, 16631.42008675, 15952.96425062,\n",
       "       26020.66908789,  8979.87488597, 12173.59604874, 19946.13943601,\n",
       "       13542.31940979, 12571.55180844, 23881.55815075, 12149.35021899,\n",
       "       17194.63150757, 20764.53596067, 23990.7136474 , 20967.28669572,\n",
       "       32929.07921885, 28431.47485681, 14626.59451449, 15807.26538139,\n",
       "       11097.75428957, 24468.68667032, 21897.95223039, 12285.27257295,\n",
       "        8410.66029382, 17539.34753282,  6927.57881142, 12982.74728115,\n",
       "       23132.9828609 , 17904.6742514 , 20615.3418288 , 28790.15743027,\n",
       "       25502.22779456, 12899.3432341 , 11185.42119026, 11637.87574814,\n",
       "       16005.39233662, 22372.66659464, 14617.91554645, 11781.35503525,\n",
       "       31408.56883254, 19348.77873751, 13285.2493206 , 11165.38593641,\n",
       "        8922.15980266,  7641.63305044, 11926.38948299, 15985.39282916,\n",
       "        8958.15100378, 16478.04772459, 13410.09460614, 14023.38219207,\n",
       "       10453.41702252, 19308.82233331, 21700.01003779, 18735.47978144,\n",
       "       30482.19293033, 12329.53152225,  9632.46016822, 25719.36027797,\n",
       "       16215.92751797, 14255.99801235, 16975.95050665, 16320.88080455,\n",
       "       23011.4460929 , 20778.89778827, 15702.76206233, 13370.21250329,\n",
       "        9446.49275548,  6195.98738415, 26769.10650533, 14229.59419974,\n",
       "       30918.87075835, 22084.06897136,  8979.87488597, 12176.2545809 ,\n",
       "       18748.04151238,  7051.00597692, 18571.7224537 , 21832.86097459,\n",
       "       28097.81508919, 24587.97983468, 29337.443354  , 15976.89699381,\n",
       "       14248.56953315, 14961.00339689, 21066.10845236, 27084.18987724,\n",
       "        9627.82564104, 10760.62269407,  9438.18690839, 27846.71690397,\n",
       "       16538.08443958, 31402.1549376 , 13365.78867031, 11501.39764156,\n",
       "        5417.06861233, 28756.44420694, 21693.14114438, 17408.78706475,\n",
       "       28955.6189806 , 27737.70489928, 33943.79149556, 19231.38811561,\n",
       "        8128.40103751, 27373.24909305, 19979.72318718,  9662.23832736,\n",
       "       23388.47208674, 14705.24143274, 16097.47586454, 23545.83593936,\n",
       "       14167.90039076, 10362.18428294,  7927.44921671, 32886.13969292,\n",
       "       19534.45898634, 12117.32721877, 27190.89715107, 11932.85972815,\n",
       "       25395.46302622, 27060.83220329, 30697.466282  ,  9966.79320213,\n",
       "       12019.89082629, 20610.46854958, 17355.90522992, 24371.50946651,\n",
       "       11646.22045341, 25685.90044589, 13773.37902903, 16323.03239644,\n",
       "       13645.03691429,  7821.32632765, 23156.27494603, 20374.04430079,\n",
       "       11644.94733427, 13957.25874768, 15563.74646981,  7862.06382081,\n",
       "       29476.28904482, 27133.48737548, 13408.39045786, 22062.86420549,\n",
       "       26108.92116134, 28357.57008504, 18844.50873168, 18820.74473872,\n",
       "        7947.0827552 , 25809.88323444, 30103.41529333, 19011.45141096])"
      ]
     },
     "execution_count": 34,
     "metadata": {},
     "output_type": "execute_result"
    }
   ],
   "source": [
    "pred5=ml.predict(xtest)\n",
    "pred5"
   ]
  },
  {
   "cell_type": "code",
   "execution_count": 35,
   "id": "5c9edd8c-3b1b-4c15-a0bc-ea6be92e5959",
   "metadata": {
    "tags": []
   },
   "outputs": [
    {
     "name": "stdout",
     "output_type": "stream",
     "text": [
      "MAE 13212.5780695278\n",
      "MAPE 1.073818632923841\n",
      "MSE 541887286.4340143\n",
      "R2 SCORE -0.09132115814782371\n"
     ]
    }
   ],
   "source": [
    "print(\"MAE\",mean_absolute_error(ytest,pred5))\n",
    "print(\"MAPE\",mean_absolute_percentage_error(ytest,pred5))\n",
    "print(\"MSE\",mean_squared_error(ytest,pred5))\n",
    "print(\"R2 SCORE\",r2_score(ytest,pred5))"
   ]
  },
  {
   "cell_type": "code",
   "execution_count": 36,
   "id": "37b8a7bc-dd5c-4983-84e4-d80096bd1573",
   "metadata": {
    "tags": []
   },
   "outputs": [
    {
     "data": {
      "text/html": [
       "<div>\n",
       "<style scoped>\n",
       "    .dataframe tbody tr th:only-of-type {\n",
       "        vertical-align: middle;\n",
       "    }\n",
       "\n",
       "    .dataframe tbody tr th {\n",
       "        vertical-align: top;\n",
       "    }\n",
       "\n",
       "    .dataframe thead th {\n",
       "        text-align: right;\n",
       "    }\n",
       "</style>\n",
       "<table border=\"1\" class=\"dataframe\">\n",
       "  <thead>\n",
       "    <tr style=\"text-align: right;\">\n",
       "      <th></th>\n",
       "      <th>Actual price</th>\n",
       "      <th>Predicted price</th>\n",
       "    </tr>\n",
       "  </thead>\n",
       "  <tbody>\n",
       "    <tr>\n",
       "      <th>556</th>\n",
       "      <td>20999</td>\n",
       "      <td>31676.882731</td>\n",
       "    </tr>\n",
       "    <tr>\n",
       "      <th>1386</th>\n",
       "      <td>1250</td>\n",
       "      <td>19704.079777</td>\n",
       "    </tr>\n",
       "    <tr>\n",
       "      <th>1450</th>\n",
       "      <td>16499</td>\n",
       "      <td>19766.850621</td>\n",
       "    </tr>\n",
       "    <tr>\n",
       "      <th>111</th>\n",
       "      <td>14999</td>\n",
       "      <td>14477.174605</td>\n",
       "    </tr>\n",
       "    <tr>\n",
       "      <th>1787</th>\n",
       "      <td>15999</td>\n",
       "      <td>16254.800590</td>\n",
       "    </tr>\n",
       "    <tr>\n",
       "      <th>...</th>\n",
       "      <td>...</td>\n",
       "      <td>...</td>\n",
       "    </tr>\n",
       "    <tr>\n",
       "      <th>790</th>\n",
       "      <td>13999</td>\n",
       "      <td>18820.744739</td>\n",
       "    </tr>\n",
       "    <tr>\n",
       "      <th>846</th>\n",
       "      <td>10990</td>\n",
       "      <td>7947.082755</td>\n",
       "    </tr>\n",
       "    <tr>\n",
       "      <th>654</th>\n",
       "      <td>13499</td>\n",
       "      <td>25809.883234</td>\n",
       "    </tr>\n",
       "    <tr>\n",
       "      <th>1084</th>\n",
       "      <td>36600</td>\n",
       "      <td>30103.415293</td>\n",
       "    </tr>\n",
       "    <tr>\n",
       "      <th>1574</th>\n",
       "      <td>36990</td>\n",
       "      <td>19011.451411</td>\n",
       "    </tr>\n",
       "  </tbody>\n",
       "</table>\n",
       "<p>368 rows × 2 columns</p>\n",
       "</div>"
      ],
      "text/plain": [
       "      Actual price  Predicted price\n",
       "556          20999     31676.882731\n",
       "1386          1250     19704.079777\n",
       "1450         16499     19766.850621\n",
       "111          14999     14477.174605\n",
       "1787         15999     16254.800590\n",
       "...            ...              ...\n",
       "790          13999     18820.744739\n",
       "846          10990      7947.082755\n",
       "654          13499     25809.883234\n",
       "1084         36600     30103.415293\n",
       "1574         36990     19011.451411\n",
       "\n",
       "[368 rows x 2 columns]"
      ]
     },
     "execution_count": 36,
     "metadata": {},
     "output_type": "execute_result"
    }
   ],
   "source": [
    "outcome= { \n",
    "    \"Actual price\":ytest,\n",
    "    \"Predicted price\":pred5\n",
    "\n",
    "}\n",
    "df3=pd.DataFrame(outcome)\n",
    "df3"
   ]
  },
  {
   "cell_type": "code",
   "execution_count": 37,
   "id": "14db180e-2985-437f-a83f-1c891b3b70bd",
   "metadata": {
    "tags": []
   },
   "outputs": [
    {
     "data": {
      "text/plain": [
       "<Axes: xlabel='Price in INR'>"
      ]
     },
     "execution_count": 37,
     "metadata": {},
     "output_type": "execute_result"
    },
    {
     "data": {
      "image/png": "[encoded data removed]",
      "text/plain": [
       "<Figure size 640x480 with 1 Axes>"
      ]
     },
     "metadata": {},
     "output_type": "display_data"
    }
   ],
   "source": [
    "sns.regplot(x= ytest,y=pred5)"
   ]
  },
  {
   "cell_type": "code",
   "execution_count": null,
   "id": "7448219e-de1e-485d-a76e-64fa4a0d0f98",
   "metadata": {},
   "outputs": [],
   "source": []
  }
 ],
 "metadata": {
  "kernelspec": {
   "display_name": "Python 3 (ipykernel)",
   "language": "python",
   "name": "python3"
  },
  "language_info": {
   "codemirror_mode": {
    "name": "ipython",
    "version": 3
   },
   "file_extension": ".py",
   "mimetype": "text/x-python",
   "name": "python",
   "nbconvert_exporter": "python",
   "pygments_lexer": "ipython3",
   "version": "3.11.5"
  }
 },
 "nbformat": 4,
 "nbformat_minor": 5
}
